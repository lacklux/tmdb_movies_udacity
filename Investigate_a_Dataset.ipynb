{
 "cells": [
  {
   "cell_type": "markdown",
   "metadata": {},
   "source": [
    "# Project : Tmdb-movies Analysis\n",
    "\n",
    "## Table of Contents\n",
    "<ul>\n",
    "<li><a href=\"#intro\">Introduction</a></li>\n",
    "<li><a href=\"#wrangling\">Data Wrangling</a></li>\n",
    "<li><a href=\"#eda\">Exploratory Data Analysis</a></li>\n",
    "<li><a href=\"#conclusions\">Conclusions</a></li>\n",
    "</ul>\n",
    "\n",
    "\n"
   ]
  },
  {
   "cell_type": "markdown",
   "metadata": {},
   "source": [
    "<a id='intro'></a>\n",
    "## **Introduction**\n"
   ]
  },
  {
   "cell_type": "markdown",
   "metadata": {},
   "source": [
    "This dataset contains information about 10,000 movies collected from The Movie Database (TMDb),including user ratings and revenue. There are some certain characteristics for each data in the dataset which are :\n",
    "<ul>\n",
    "<li> genres </li>\n",
    "<li> revenue </li>\n",
    "<li> director </li>\n",
    "<li> original_title </li>\n",
    "<li> release_year </li>\n",
    "<li> production_companies </li>\n",
    "\n",
    "and likes.\n",
    "\n",
    "</ul>\n",
    "With this given dataset I will be exploring the below questions :\n",
    "\n",
    "<ul>\n",
    "<li>Which genres are most popular from year to year? </li>\n",
    "<li>Who is the director with most number of movies? </li>\n",
    "<li>What kind of properties are associated with the highest revenue?</li>\n",
    "<li>Which year has the highest number of movies release? </li>\n",
    "<li>Which production_companies is the most popular ?</li>\n",
    "<li>What are the longest and shortest movies from year to year?</li>\n",
    "<li>what are the most watch movies base on the runtime?is it the movies with the highest runtime or lowest? </li>\n",
    "<li>Which director has the highest number of votes?</li>\n",
    "\n",
    "</ul>\n",
    "\n"
   ]
  },
  {
   "cell_type": "code",
   "execution_count": 665,
   "metadata": {},
   "outputs": [],
   "source": [
    "import pandas as pd\n",
    "import numpy as np\n",
    "import seaborn as snb\n",
    "import matplotlib.pyplot as plt\n",
    "%matplotlib inline\n"
   ]
  },
  {
   "cell_type": "markdown",
   "metadata": {},
   "source": [
    "<a id='wrangling'></a>\n",
    "## **Data Wrangling**\n",
    "\n",
    "### General Properties"
   ]
  },
  {
   "cell_type": "code",
   "execution_count": 666,
   "metadata": {},
   "outputs": [
    {
     "data": {
      "text/html": [
       "<div>\n",
       "<style scoped>\n",
       "    .dataframe tbody tr th:only-of-type {\n",
       "        vertical-align: middle;\n",
       "    }\n",
       "\n",
       "    .dataframe tbody tr th {\n",
       "        vertical-align: top;\n",
       "    }\n",
       "\n",
       "    .dataframe thead th {\n",
       "        text-align: right;\n",
       "    }\n",
       "</style>\n",
       "<table border=\"1\" class=\"dataframe\">\n",
       "  <thead>\n",
       "    <tr style=\"text-align: right;\">\n",
       "      <th></th>\n",
       "      <th>id</th>\n",
       "      <th>imdb_id</th>\n",
       "      <th>popularity</th>\n",
       "      <th>budget</th>\n",
       "      <th>revenue</th>\n",
       "      <th>original_title</th>\n",
       "      <th>cast</th>\n",
       "      <th>homepage</th>\n",
       "      <th>director</th>\n",
       "      <th>tagline</th>\n",
       "      <th>...</th>\n",
       "      <th>overview</th>\n",
       "      <th>runtime</th>\n",
       "      <th>genres</th>\n",
       "      <th>production_companies</th>\n",
       "      <th>release_date</th>\n",
       "      <th>vote_count</th>\n",
       "      <th>vote_average</th>\n",
       "      <th>release_year</th>\n",
       "      <th>budget_adj</th>\n",
       "      <th>revenue_adj</th>\n",
       "    </tr>\n",
       "  </thead>\n",
       "  <tbody>\n",
       "    <tr>\n",
       "      <th>0</th>\n",
       "      <td>135397</td>\n",
       "      <td>tt0369610</td>\n",
       "      <td>32.985763</td>\n",
       "      <td>150000000</td>\n",
       "      <td>1513528810</td>\n",
       "      <td>Jurassic World</td>\n",
       "      <td>Chris Pratt|Bryce Dallas Howard|Irrfan Khan|Vi...</td>\n",
       "      <td>http://www.jurassicworld.com/</td>\n",
       "      <td>Colin Trevorrow</td>\n",
       "      <td>The park is open.</td>\n",
       "      <td>...</td>\n",
       "      <td>Twenty-two years after the events of Jurassic ...</td>\n",
       "      <td>124</td>\n",
       "      <td>Action|Adventure|Science Fiction|Thriller</td>\n",
       "      <td>Universal Studios|Amblin Entertainment|Legenda...</td>\n",
       "      <td>6/9/15</td>\n",
       "      <td>5562</td>\n",
       "      <td>6.5</td>\n",
       "      <td>2015</td>\n",
       "      <td>1.379999e+08</td>\n",
       "      <td>1.392446e+09</td>\n",
       "    </tr>\n",
       "    <tr>\n",
       "      <th>1</th>\n",
       "      <td>76341</td>\n",
       "      <td>tt1392190</td>\n",
       "      <td>28.419936</td>\n",
       "      <td>150000000</td>\n",
       "      <td>378436354</td>\n",
       "      <td>Mad Max: Fury Road</td>\n",
       "      <td>Tom Hardy|Charlize Theron|Hugh Keays-Byrne|Nic...</td>\n",
       "      <td>http://www.madmaxmovie.com/</td>\n",
       "      <td>George Miller</td>\n",
       "      <td>What a Lovely Day.</td>\n",
       "      <td>...</td>\n",
       "      <td>An apocalyptic story set in the furthest reach...</td>\n",
       "      <td>120</td>\n",
       "      <td>Action|Adventure|Science Fiction|Thriller</td>\n",
       "      <td>Village Roadshow Pictures|Kennedy Miller Produ...</td>\n",
       "      <td>5/13/15</td>\n",
       "      <td>6185</td>\n",
       "      <td>7.1</td>\n",
       "      <td>2015</td>\n",
       "      <td>1.379999e+08</td>\n",
       "      <td>3.481613e+08</td>\n",
       "    </tr>\n",
       "    <tr>\n",
       "      <th>2</th>\n",
       "      <td>262500</td>\n",
       "      <td>tt2908446</td>\n",
       "      <td>13.112507</td>\n",
       "      <td>110000000</td>\n",
       "      <td>295238201</td>\n",
       "      <td>Insurgent</td>\n",
       "      <td>Shailene Woodley|Theo James|Kate Winslet|Ansel...</td>\n",
       "      <td>http://www.thedivergentseries.movie/#insurgent</td>\n",
       "      <td>Robert Schwentke</td>\n",
       "      <td>One Choice Can Destroy You</td>\n",
       "      <td>...</td>\n",
       "      <td>Beatrice Prior must confront her inner demons ...</td>\n",
       "      <td>119</td>\n",
       "      <td>Adventure|Science Fiction|Thriller</td>\n",
       "      <td>Summit Entertainment|Mandeville Films|Red Wago...</td>\n",
       "      <td>3/18/15</td>\n",
       "      <td>2480</td>\n",
       "      <td>6.3</td>\n",
       "      <td>2015</td>\n",
       "      <td>1.012000e+08</td>\n",
       "      <td>2.716190e+08</td>\n",
       "    </tr>\n",
       "    <tr>\n",
       "      <th>3</th>\n",
       "      <td>140607</td>\n",
       "      <td>tt2488496</td>\n",
       "      <td>11.173104</td>\n",
       "      <td>200000000</td>\n",
       "      <td>2068178225</td>\n",
       "      <td>Star Wars: The Force Awakens</td>\n",
       "      <td>Harrison Ford|Mark Hamill|Carrie Fisher|Adam D...</td>\n",
       "      <td>http://www.starwars.com/films/star-wars-episod...</td>\n",
       "      <td>J.J. Abrams</td>\n",
       "      <td>Every generation has a story.</td>\n",
       "      <td>...</td>\n",
       "      <td>Thirty years after defeating the Galactic Empi...</td>\n",
       "      <td>136</td>\n",
       "      <td>Action|Adventure|Science Fiction|Fantasy</td>\n",
       "      <td>Lucasfilm|Truenorth Productions|Bad Robot</td>\n",
       "      <td>12/15/15</td>\n",
       "      <td>5292</td>\n",
       "      <td>7.5</td>\n",
       "      <td>2015</td>\n",
       "      <td>1.839999e+08</td>\n",
       "      <td>1.902723e+09</td>\n",
       "    </tr>\n",
       "    <tr>\n",
       "      <th>4</th>\n",
       "      <td>168259</td>\n",
       "      <td>tt2820852</td>\n",
       "      <td>9.335014</td>\n",
       "      <td>190000000</td>\n",
       "      <td>1506249360</td>\n",
       "      <td>Furious 7</td>\n",
       "      <td>Vin Diesel|Paul Walker|Jason Statham|Michelle ...</td>\n",
       "      <td>http://www.furious7.com/</td>\n",
       "      <td>James Wan</td>\n",
       "      <td>Vengeance Hits Home</td>\n",
       "      <td>...</td>\n",
       "      <td>Deckard Shaw seeks revenge against Dominic Tor...</td>\n",
       "      <td>137</td>\n",
       "      <td>Action|Crime|Thriller</td>\n",
       "      <td>Universal Pictures|Original Film|Media Rights ...</td>\n",
       "      <td>4/1/15</td>\n",
       "      <td>2947</td>\n",
       "      <td>7.3</td>\n",
       "      <td>2015</td>\n",
       "      <td>1.747999e+08</td>\n",
       "      <td>1.385749e+09</td>\n",
       "    </tr>\n",
       "  </tbody>\n",
       "</table>\n",
       "<p>5 rows × 21 columns</p>\n",
       "</div>"
      ],
      "text/plain": [
       "       id    imdb_id  popularity     budget     revenue  \\\n",
       "0  135397  tt0369610   32.985763  150000000  1513528810   \n",
       "1   76341  tt1392190   28.419936  150000000   378436354   \n",
       "2  262500  tt2908446   13.112507  110000000   295238201   \n",
       "3  140607  tt2488496   11.173104  200000000  2068178225   \n",
       "4  168259  tt2820852    9.335014  190000000  1506249360   \n",
       "\n",
       "                 original_title  \\\n",
       "0                Jurassic World   \n",
       "1            Mad Max: Fury Road   \n",
       "2                     Insurgent   \n",
       "3  Star Wars: The Force Awakens   \n",
       "4                     Furious 7   \n",
       "\n",
       "                                                cast  \\\n",
       "0  Chris Pratt|Bryce Dallas Howard|Irrfan Khan|Vi...   \n",
       "1  Tom Hardy|Charlize Theron|Hugh Keays-Byrne|Nic...   \n",
       "2  Shailene Woodley|Theo James|Kate Winslet|Ansel...   \n",
       "3  Harrison Ford|Mark Hamill|Carrie Fisher|Adam D...   \n",
       "4  Vin Diesel|Paul Walker|Jason Statham|Michelle ...   \n",
       "\n",
       "                                            homepage          director  \\\n",
       "0                      http://www.jurassicworld.com/   Colin Trevorrow   \n",
       "1                        http://www.madmaxmovie.com/     George Miller   \n",
       "2     http://www.thedivergentseries.movie/#insurgent  Robert Schwentke   \n",
       "3  http://www.starwars.com/films/star-wars-episod...       J.J. Abrams   \n",
       "4                           http://www.furious7.com/         James Wan   \n",
       "\n",
       "                         tagline  ...  \\\n",
       "0              The park is open.  ...   \n",
       "1             What a Lovely Day.  ...   \n",
       "2     One Choice Can Destroy You  ...   \n",
       "3  Every generation has a story.  ...   \n",
       "4            Vengeance Hits Home  ...   \n",
       "\n",
       "                                            overview runtime  \\\n",
       "0  Twenty-two years after the events of Jurassic ...     124   \n",
       "1  An apocalyptic story set in the furthest reach...     120   \n",
       "2  Beatrice Prior must confront her inner demons ...     119   \n",
       "3  Thirty years after defeating the Galactic Empi...     136   \n",
       "4  Deckard Shaw seeks revenge against Dominic Tor...     137   \n",
       "\n",
       "                                      genres  \\\n",
       "0  Action|Adventure|Science Fiction|Thriller   \n",
       "1  Action|Adventure|Science Fiction|Thriller   \n",
       "2         Adventure|Science Fiction|Thriller   \n",
       "3   Action|Adventure|Science Fiction|Fantasy   \n",
       "4                      Action|Crime|Thriller   \n",
       "\n",
       "                                production_companies release_date vote_count  \\\n",
       "0  Universal Studios|Amblin Entertainment|Legenda...       6/9/15       5562   \n",
       "1  Village Roadshow Pictures|Kennedy Miller Produ...      5/13/15       6185   \n",
       "2  Summit Entertainment|Mandeville Films|Red Wago...      3/18/15       2480   \n",
       "3          Lucasfilm|Truenorth Productions|Bad Robot     12/15/15       5292   \n",
       "4  Universal Pictures|Original Film|Media Rights ...       4/1/15       2947   \n",
       "\n",
       "   vote_average  release_year    budget_adj   revenue_adj  \n",
       "0           6.5          2015  1.379999e+08  1.392446e+09  \n",
       "1           7.1          2015  1.379999e+08  3.481613e+08  \n",
       "2           6.3          2015  1.012000e+08  2.716190e+08  \n",
       "3           7.5          2015  1.839999e+08  1.902723e+09  \n",
       "4           7.3          2015  1.747999e+08  1.385749e+09  \n",
       "\n",
       "[5 rows x 21 columns]"
      ]
     },
     "execution_count": 666,
     "metadata": {},
     "output_type": "execute_result"
    }
   ],
   "source": [
    "#load dataset\n",
    "\n",
    "df = pd.read_csv('tmdb-movies.csv')\n",
    "df.head()"
   ]
  },
  {
   "cell_type": "code",
   "execution_count": 667,
   "metadata": {},
   "outputs": [
    {
     "data": {
      "text/plain": [
       "(10866, 21)"
      ]
     },
     "execution_count": 667,
     "metadata": {},
     "output_type": "execute_result"
    }
   ],
   "source": [
    "#check the shape of the dataframe\n",
    "df.shape"
   ]
  },
  {
   "cell_type": "code",
   "execution_count": 668,
   "metadata": {},
   "outputs": [
    {
     "name": "stdout",
     "output_type": "stream",
     "text": [
      "<class 'pandas.core.frame.DataFrame'>\n",
      "RangeIndex: 10866 entries, 0 to 10865\n",
      "Data columns (total 21 columns):\n",
      " #   Column                Non-Null Count  Dtype  \n",
      "---  ------                --------------  -----  \n",
      " 0   id                    10866 non-null  int64  \n",
      " 1   imdb_id               10856 non-null  object \n",
      " 2   popularity            10866 non-null  float64\n",
      " 3   budget                10866 non-null  int64  \n",
      " 4   revenue               10866 non-null  int64  \n",
      " 5   original_title        10866 non-null  object \n",
      " 6   cast                  10790 non-null  object \n",
      " 7   homepage              2936 non-null   object \n",
      " 8   director              10822 non-null  object \n",
      " 9   tagline               8042 non-null   object \n",
      " 10  keywords              9373 non-null   object \n",
      " 11  overview              10862 non-null  object \n",
      " 12  runtime               10866 non-null  int64  \n",
      " 13  genres                10843 non-null  object \n",
      " 14  production_companies  9836 non-null   object \n",
      " 15  release_date          10866 non-null  object \n",
      " 16  vote_count            10866 non-null  int64  \n",
      " 17  vote_average          10866 non-null  float64\n",
      " 18  release_year          10866 non-null  int64  \n",
      " 19  budget_adj            10866 non-null  float64\n",
      " 20  revenue_adj           10866 non-null  float64\n",
      "dtypes: float64(4), int64(6), object(11)\n",
      "memory usage: 1.7+ MB\n"
     ]
    }
   ],
   "source": [
    "#check theck the dataframe information to if there is missing data,duplicated datas and null data\n",
    "df.info();"
   ]
  },
  {
   "cell_type": "code",
   "execution_count": 669,
   "metadata": {},
   "outputs": [
    {
     "data": {
      "text/html": [
       "<div>\n",
       "<style scoped>\n",
       "    .dataframe tbody tr th:only-of-type {\n",
       "        vertical-align: middle;\n",
       "    }\n",
       "\n",
       "    .dataframe tbody tr th {\n",
       "        vertical-align: top;\n",
       "    }\n",
       "\n",
       "    .dataframe thead th {\n",
       "        text-align: right;\n",
       "    }\n",
       "</style>\n",
       "<table border=\"1\" class=\"dataframe\">\n",
       "  <thead>\n",
       "    <tr style=\"text-align: right;\">\n",
       "      <th></th>\n",
       "      <th>id</th>\n",
       "      <th>popularity</th>\n",
       "      <th>budget</th>\n",
       "      <th>revenue</th>\n",
       "      <th>runtime</th>\n",
       "      <th>vote_count</th>\n",
       "      <th>vote_average</th>\n",
       "      <th>release_year</th>\n",
       "      <th>budget_adj</th>\n",
       "      <th>revenue_adj</th>\n",
       "    </tr>\n",
       "  </thead>\n",
       "  <tbody>\n",
       "    <tr>\n",
       "      <th>count</th>\n",
       "      <td>10866.000000</td>\n",
       "      <td>10866.000000</td>\n",
       "      <td>1.086600e+04</td>\n",
       "      <td>1.086600e+04</td>\n",
       "      <td>10866.000000</td>\n",
       "      <td>10866.000000</td>\n",
       "      <td>10866.000000</td>\n",
       "      <td>10866.000000</td>\n",
       "      <td>1.086600e+04</td>\n",
       "      <td>1.086600e+04</td>\n",
       "    </tr>\n",
       "    <tr>\n",
       "      <th>mean</th>\n",
       "      <td>66064.177434</td>\n",
       "      <td>0.646441</td>\n",
       "      <td>1.462570e+07</td>\n",
       "      <td>3.982332e+07</td>\n",
       "      <td>102.070863</td>\n",
       "      <td>217.389748</td>\n",
       "      <td>5.974922</td>\n",
       "      <td>2001.322658</td>\n",
       "      <td>1.755104e+07</td>\n",
       "      <td>5.136436e+07</td>\n",
       "    </tr>\n",
       "    <tr>\n",
       "      <th>std</th>\n",
       "      <td>92130.136561</td>\n",
       "      <td>1.000185</td>\n",
       "      <td>3.091321e+07</td>\n",
       "      <td>1.170035e+08</td>\n",
       "      <td>31.381405</td>\n",
       "      <td>575.619058</td>\n",
       "      <td>0.935142</td>\n",
       "      <td>12.812941</td>\n",
       "      <td>3.430616e+07</td>\n",
       "      <td>1.446325e+08</td>\n",
       "    </tr>\n",
       "    <tr>\n",
       "      <th>min</th>\n",
       "      <td>5.000000</td>\n",
       "      <td>0.000065</td>\n",
       "      <td>0.000000e+00</td>\n",
       "      <td>0.000000e+00</td>\n",
       "      <td>0.000000</td>\n",
       "      <td>10.000000</td>\n",
       "      <td>1.500000</td>\n",
       "      <td>1960.000000</td>\n",
       "      <td>0.000000e+00</td>\n",
       "      <td>0.000000e+00</td>\n",
       "    </tr>\n",
       "    <tr>\n",
       "      <th>25%</th>\n",
       "      <td>10596.250000</td>\n",
       "      <td>0.207583</td>\n",
       "      <td>0.000000e+00</td>\n",
       "      <td>0.000000e+00</td>\n",
       "      <td>90.000000</td>\n",
       "      <td>17.000000</td>\n",
       "      <td>5.400000</td>\n",
       "      <td>1995.000000</td>\n",
       "      <td>0.000000e+00</td>\n",
       "      <td>0.000000e+00</td>\n",
       "    </tr>\n",
       "    <tr>\n",
       "      <th>50%</th>\n",
       "      <td>20669.000000</td>\n",
       "      <td>0.383856</td>\n",
       "      <td>0.000000e+00</td>\n",
       "      <td>0.000000e+00</td>\n",
       "      <td>99.000000</td>\n",
       "      <td>38.000000</td>\n",
       "      <td>6.000000</td>\n",
       "      <td>2006.000000</td>\n",
       "      <td>0.000000e+00</td>\n",
       "      <td>0.000000e+00</td>\n",
       "    </tr>\n",
       "    <tr>\n",
       "      <th>75%</th>\n",
       "      <td>75610.000000</td>\n",
       "      <td>0.713817</td>\n",
       "      <td>1.500000e+07</td>\n",
       "      <td>2.400000e+07</td>\n",
       "      <td>111.000000</td>\n",
       "      <td>145.750000</td>\n",
       "      <td>6.600000</td>\n",
       "      <td>2011.000000</td>\n",
       "      <td>2.085325e+07</td>\n",
       "      <td>3.369710e+07</td>\n",
       "    </tr>\n",
       "    <tr>\n",
       "      <th>max</th>\n",
       "      <td>417859.000000</td>\n",
       "      <td>32.985763</td>\n",
       "      <td>4.250000e+08</td>\n",
       "      <td>2.781506e+09</td>\n",
       "      <td>900.000000</td>\n",
       "      <td>9767.000000</td>\n",
       "      <td>9.200000</td>\n",
       "      <td>2015.000000</td>\n",
       "      <td>4.250000e+08</td>\n",
       "      <td>2.827124e+09</td>\n",
       "    </tr>\n",
       "  </tbody>\n",
       "</table>\n",
       "</div>"
      ],
      "text/plain": [
       "                  id    popularity        budget       revenue       runtime  \\\n",
       "count   10866.000000  10866.000000  1.086600e+04  1.086600e+04  10866.000000   \n",
       "mean    66064.177434      0.646441  1.462570e+07  3.982332e+07    102.070863   \n",
       "std     92130.136561      1.000185  3.091321e+07  1.170035e+08     31.381405   \n",
       "min         5.000000      0.000065  0.000000e+00  0.000000e+00      0.000000   \n",
       "25%     10596.250000      0.207583  0.000000e+00  0.000000e+00     90.000000   \n",
       "50%     20669.000000      0.383856  0.000000e+00  0.000000e+00     99.000000   \n",
       "75%     75610.000000      0.713817  1.500000e+07  2.400000e+07    111.000000   \n",
       "max    417859.000000     32.985763  4.250000e+08  2.781506e+09    900.000000   \n",
       "\n",
       "         vote_count  vote_average  release_year    budget_adj   revenue_adj  \n",
       "count  10866.000000  10866.000000  10866.000000  1.086600e+04  1.086600e+04  \n",
       "mean     217.389748      5.974922   2001.322658  1.755104e+07  5.136436e+07  \n",
       "std      575.619058      0.935142     12.812941  3.430616e+07  1.446325e+08  \n",
       "min       10.000000      1.500000   1960.000000  0.000000e+00  0.000000e+00  \n",
       "25%       17.000000      5.400000   1995.000000  0.000000e+00  0.000000e+00  \n",
       "50%       38.000000      6.000000   2006.000000  0.000000e+00  0.000000e+00  \n",
       "75%      145.750000      6.600000   2011.000000  2.085325e+07  3.369710e+07  \n",
       "max     9767.000000      9.200000   2015.000000  4.250000e+08  2.827124e+09  "
      ]
     },
     "execution_count": 669,
     "metadata": {},
     "output_type": "execute_result"
    }
   ],
   "source": [
    "#describe the data to see the statistical value of each column\n",
    "df.describe()"
   ]
  },
  {
   "cell_type": "markdown",
   "metadata": {},
   "source": [
    "### Data Cleaning \n",
    "From the above information about the dataframe and from quick view of the dataframe , I notice that there are some columns with missing values ,while some have 0 or null value. I will be using this particular section to clean those data.\n",
    "keywords,tagline,director,genres,production_companies have missing values. Since some column are not necessary in this dataframe and the are object(string) it will be a good idea to drop them if they are not up to 70% of the dataframe.\n",
    "\n",
    "so am going to drop some columns like tagline,cast,budget_adj,revenue_adj and others, while i will replace the column with 0 values with mean of the column"
   ]
  },
  {
   "cell_type": "code",
   "execution_count": 670,
   "metadata": {},
   "outputs": [
    {
     "data": {
      "text/plain": [
       "1"
      ]
     },
     "execution_count": 670,
     "metadata": {},
     "output_type": "execute_result"
    }
   ],
   "source": [
    "#check for duplicate row\n",
    "df.duplicated().sum()"
   ]
  },
  {
   "cell_type": "code",
   "execution_count": 671,
   "metadata": {},
   "outputs": [],
   "source": [
    "#drop duplicates\n",
    "df = df.drop_duplicates();\n"
   ]
  },
  {
   "cell_type": "code",
   "execution_count": 672,
   "metadata": {},
   "outputs": [
    {
     "data": {
      "text/html": [
       "<div>\n",
       "<style scoped>\n",
       "    .dataframe tbody tr th:only-of-type {\n",
       "        vertical-align: middle;\n",
       "    }\n",
       "\n",
       "    .dataframe tbody tr th {\n",
       "        vertical-align: top;\n",
       "    }\n",
       "\n",
       "    .dataframe thead th {\n",
       "        text-align: right;\n",
       "    }\n",
       "</style>\n",
       "<table border=\"1\" class=\"dataframe\">\n",
       "  <thead>\n",
       "    <tr style=\"text-align: right;\">\n",
       "      <th></th>\n",
       "      <th>popularity</th>\n",
       "      <th>budget</th>\n",
       "      <th>revenue</th>\n",
       "      <th>original_title</th>\n",
       "      <th>director</th>\n",
       "      <th>keywords</th>\n",
       "      <th>overview</th>\n",
       "      <th>runtime</th>\n",
       "      <th>genres</th>\n",
       "      <th>production_companies</th>\n",
       "      <th>release_date</th>\n",
       "      <th>vote_count</th>\n",
       "      <th>vote_average</th>\n",
       "      <th>release_year</th>\n",
       "    </tr>\n",
       "  </thead>\n",
       "  <tbody>\n",
       "    <tr>\n",
       "      <th>0</th>\n",
       "      <td>32.985763</td>\n",
       "      <td>150000000</td>\n",
       "      <td>1513528810</td>\n",
       "      <td>Jurassic World</td>\n",
       "      <td>Colin Trevorrow</td>\n",
       "      <td>monster|dna|tyrannosaurus rex|velociraptor|island</td>\n",
       "      <td>Twenty-two years after the events of Jurassic ...</td>\n",
       "      <td>124</td>\n",
       "      <td>Action|Adventure|Science Fiction|Thriller</td>\n",
       "      <td>Universal Studios|Amblin Entertainment|Legenda...</td>\n",
       "      <td>6/9/15</td>\n",
       "      <td>5562</td>\n",
       "      <td>6.5</td>\n",
       "      <td>2015</td>\n",
       "    </tr>\n",
       "    <tr>\n",
       "      <th>1</th>\n",
       "      <td>28.419936</td>\n",
       "      <td>150000000</td>\n",
       "      <td>378436354</td>\n",
       "      <td>Mad Max: Fury Road</td>\n",
       "      <td>George Miller</td>\n",
       "      <td>future|chase|post-apocalyptic|dystopia|australia</td>\n",
       "      <td>An apocalyptic story set in the furthest reach...</td>\n",
       "      <td>120</td>\n",
       "      <td>Action|Adventure|Science Fiction|Thriller</td>\n",
       "      <td>Village Roadshow Pictures|Kennedy Miller Produ...</td>\n",
       "      <td>5/13/15</td>\n",
       "      <td>6185</td>\n",
       "      <td>7.1</td>\n",
       "      <td>2015</td>\n",
       "    </tr>\n",
       "    <tr>\n",
       "      <th>2</th>\n",
       "      <td>13.112507</td>\n",
       "      <td>110000000</td>\n",
       "      <td>295238201</td>\n",
       "      <td>Insurgent</td>\n",
       "      <td>Robert Schwentke</td>\n",
       "      <td>based on novel|revolution|dystopia|sequel|dyst...</td>\n",
       "      <td>Beatrice Prior must confront her inner demons ...</td>\n",
       "      <td>119</td>\n",
       "      <td>Adventure|Science Fiction|Thriller</td>\n",
       "      <td>Summit Entertainment|Mandeville Films|Red Wago...</td>\n",
       "      <td>3/18/15</td>\n",
       "      <td>2480</td>\n",
       "      <td>6.3</td>\n",
       "      <td>2015</td>\n",
       "    </tr>\n",
       "    <tr>\n",
       "      <th>3</th>\n",
       "      <td>11.173104</td>\n",
       "      <td>200000000</td>\n",
       "      <td>2068178225</td>\n",
       "      <td>Star Wars: The Force Awakens</td>\n",
       "      <td>J.J. Abrams</td>\n",
       "      <td>android|spaceship|jedi|space opera|3d</td>\n",
       "      <td>Thirty years after defeating the Galactic Empi...</td>\n",
       "      <td>136</td>\n",
       "      <td>Action|Adventure|Science Fiction|Fantasy</td>\n",
       "      <td>Lucasfilm|Truenorth Productions|Bad Robot</td>\n",
       "      <td>12/15/15</td>\n",
       "      <td>5292</td>\n",
       "      <td>7.5</td>\n",
       "      <td>2015</td>\n",
       "    </tr>\n",
       "    <tr>\n",
       "      <th>4</th>\n",
       "      <td>9.335014</td>\n",
       "      <td>190000000</td>\n",
       "      <td>1506249360</td>\n",
       "      <td>Furious 7</td>\n",
       "      <td>James Wan</td>\n",
       "      <td>car race|speed|revenge|suspense|car</td>\n",
       "      <td>Deckard Shaw seeks revenge against Dominic Tor...</td>\n",
       "      <td>137</td>\n",
       "      <td>Action|Crime|Thriller</td>\n",
       "      <td>Universal Pictures|Original Film|Media Rights ...</td>\n",
       "      <td>4/1/15</td>\n",
       "      <td>2947</td>\n",
       "      <td>7.3</td>\n",
       "      <td>2015</td>\n",
       "    </tr>\n",
       "  </tbody>\n",
       "</table>\n",
       "</div>"
      ],
      "text/plain": [
       "   popularity     budget     revenue                original_title  \\\n",
       "0   32.985763  150000000  1513528810                Jurassic World   \n",
       "1   28.419936  150000000   378436354            Mad Max: Fury Road   \n",
       "2   13.112507  110000000   295238201                     Insurgent   \n",
       "3   11.173104  200000000  2068178225  Star Wars: The Force Awakens   \n",
       "4    9.335014  190000000  1506249360                     Furious 7   \n",
       "\n",
       "           director                                           keywords  \\\n",
       "0   Colin Trevorrow  monster|dna|tyrannosaurus rex|velociraptor|island   \n",
       "1     George Miller   future|chase|post-apocalyptic|dystopia|australia   \n",
       "2  Robert Schwentke  based on novel|revolution|dystopia|sequel|dyst...   \n",
       "3       J.J. Abrams              android|spaceship|jedi|space opera|3d   \n",
       "4         James Wan                car race|speed|revenge|suspense|car   \n",
       "\n",
       "                                            overview  runtime  \\\n",
       "0  Twenty-two years after the events of Jurassic ...      124   \n",
       "1  An apocalyptic story set in the furthest reach...      120   \n",
       "2  Beatrice Prior must confront her inner demons ...      119   \n",
       "3  Thirty years after defeating the Galactic Empi...      136   \n",
       "4  Deckard Shaw seeks revenge against Dominic Tor...      137   \n",
       "\n",
       "                                      genres  \\\n",
       "0  Action|Adventure|Science Fiction|Thriller   \n",
       "1  Action|Adventure|Science Fiction|Thriller   \n",
       "2         Adventure|Science Fiction|Thriller   \n",
       "3   Action|Adventure|Science Fiction|Fantasy   \n",
       "4                      Action|Crime|Thriller   \n",
       "\n",
       "                                production_companies release_date  vote_count  \\\n",
       "0  Universal Studios|Amblin Entertainment|Legenda...       6/9/15        5562   \n",
       "1  Village Roadshow Pictures|Kennedy Miller Produ...      5/13/15        6185   \n",
       "2  Summit Entertainment|Mandeville Films|Red Wago...      3/18/15        2480   \n",
       "3          Lucasfilm|Truenorth Productions|Bad Robot     12/15/15        5292   \n",
       "4  Universal Pictures|Original Film|Media Rights ...       4/1/15        2947   \n",
       "\n",
       "   vote_average  release_year  \n",
       "0           6.5          2015  \n",
       "1           7.1          2015  \n",
       "2           6.3          2015  \n",
       "3           7.5          2015  \n",
       "4           7.3          2015  "
      ]
     },
     "execution_count": 672,
     "metadata": {},
     "output_type": "execute_result"
    }
   ],
   "source": [
    "#drop unecessary columns\n",
    "df.drop(['id','homepage','imdb_id','budget_adj','revenue_adj','cast','tagline'],axis=1,inplace=True)\n",
    "#check if they are dropped\n",
    "df.head()"
   ]
  },
  {
   "cell_type": "code",
   "execution_count": 673,
   "metadata": {},
   "outputs": [
    {
     "name": "stdout",
     "output_type": "stream",
     "text": [
      "<class 'pandas.core.frame.DataFrame'>\n",
      "Int64Index: 10865 entries, 0 to 10865\n",
      "Data columns (total 14 columns):\n",
      " #   Column                Non-Null Count  Dtype  \n",
      "---  ------                --------------  -----  \n",
      " 0   popularity            10865 non-null  float64\n",
      " 1   budget                10865 non-null  int64  \n",
      " 2   revenue               10865 non-null  int64  \n",
      " 3   original_title        10865 non-null  object \n",
      " 4   director              10821 non-null  object \n",
      " 5   keywords              9372 non-null   object \n",
      " 6   overview              10861 non-null  object \n",
      " 7   runtime               10865 non-null  int64  \n",
      " 8   genres                10842 non-null  object \n",
      " 9   production_companies  9835 non-null   object \n",
      " 10  release_date          10865 non-null  object \n",
      " 11  vote_count            10865 non-null  int64  \n",
      " 12  vote_average          10865 non-null  float64\n",
      " 13  release_year          10865 non-null  int64  \n",
      "dtypes: float64(2), int64(5), object(7)\n",
      "memory usage: 1.2+ MB\n"
     ]
    }
   ],
   "source": [
    "#check the info again \n",
    "df.info()"
   ]
  },
  {
   "cell_type": "markdown",
   "metadata": {},
   "source": [
    "$$\n",
    "\n",
    "\n",
    "\n",
    "\n",
    "\n",
    "\n",
    "$$\n",
    "\n",
    "##### **Check if budget has a row with 0**"
   ]
  },
  {
   "cell_type": "code",
   "execution_count": 674,
   "metadata": {},
   "outputs": [
    {
     "data": {
      "text/html": [
       "<div>\n",
       "<style scoped>\n",
       "    .dataframe tbody tr th:only-of-type {\n",
       "        vertical-align: middle;\n",
       "    }\n",
       "\n",
       "    .dataframe tbody tr th {\n",
       "        vertical-align: top;\n",
       "    }\n",
       "\n",
       "    .dataframe thead th {\n",
       "        text-align: right;\n",
       "    }\n",
       "</style>\n",
       "<table border=\"1\" class=\"dataframe\">\n",
       "  <thead>\n",
       "    <tr style=\"text-align: right;\">\n",
       "      <th></th>\n",
       "      <th>popularity</th>\n",
       "      <th>budget</th>\n",
       "      <th>revenue</th>\n",
       "      <th>original_title</th>\n",
       "      <th>director</th>\n",
       "      <th>keywords</th>\n",
       "      <th>overview</th>\n",
       "      <th>runtime</th>\n",
       "      <th>genres</th>\n",
       "      <th>production_companies</th>\n",
       "      <th>release_date</th>\n",
       "      <th>vote_count</th>\n",
       "      <th>vote_average</th>\n",
       "      <th>release_year</th>\n",
       "    </tr>\n",
       "  </thead>\n",
       "  <tbody>\n",
       "    <tr>\n",
       "      <th>30</th>\n",
       "      <td>3.927333</td>\n",
       "      <td>0</td>\n",
       "      <td>29355203</td>\n",
       "      <td>Mr. Holmes</td>\n",
       "      <td>Bill Condon</td>\n",
       "      <td>london|detective|sherlock holmes</td>\n",
       "      <td>The story is set in 1947, following a long-ret...</td>\n",
       "      <td>103</td>\n",
       "      <td>Mystery|Drama</td>\n",
       "      <td>BBC Films|See-Saw Films|FilmNation Entertainme...</td>\n",
       "      <td>6/19/15</td>\n",
       "      <td>425</td>\n",
       "      <td>6.4</td>\n",
       "      <td>2015</td>\n",
       "    </tr>\n",
       "    <tr>\n",
       "      <th>36</th>\n",
       "      <td>3.358321</td>\n",
       "      <td>0</td>\n",
       "      <td>22354572</td>\n",
       "      <td>Solace</td>\n",
       "      <td>Afonso Poyart</td>\n",
       "      <td>thriller|serial killer|psychic|fbi agent|intrigue</td>\n",
       "      <td>A psychic doctor, John Clancy, works with an F...</td>\n",
       "      <td>101</td>\n",
       "      <td>Crime|Drama|Mystery</td>\n",
       "      <td>Eden Rock Media|FilmNation Entertainment|Flynn...</td>\n",
       "      <td>9/3/15</td>\n",
       "      <td>474</td>\n",
       "      <td>6.2</td>\n",
       "      <td>2015</td>\n",
       "    </tr>\n",
       "  </tbody>\n",
       "</table>\n",
       "</div>"
      ],
      "text/plain": [
       "    popularity  budget   revenue original_title       director  \\\n",
       "30    3.927333       0  29355203     Mr. Holmes    Bill Condon   \n",
       "36    3.358321       0  22354572         Solace  Afonso Poyart   \n",
       "\n",
       "                                             keywords  \\\n",
       "30                   london|detective|sherlock holmes   \n",
       "36  thriller|serial killer|psychic|fbi agent|intrigue   \n",
       "\n",
       "                                             overview  runtime  \\\n",
       "30  The story is set in 1947, following a long-ret...      103   \n",
       "36  A psychic doctor, John Clancy, works with an F...      101   \n",
       "\n",
       "                 genres                               production_companies  \\\n",
       "30        Mystery|Drama  BBC Films|See-Saw Films|FilmNation Entertainme...   \n",
       "36  Crime|Drama|Mystery  Eden Rock Media|FilmNation Entertainment|Flynn...   \n",
       "\n",
       "   release_date  vote_count  vote_average  release_year  \n",
       "30      6/19/15         425           6.4          2015  \n",
       "36       9/3/15         474           6.2          2015  "
      ]
     },
     "execution_count": 674,
     "metadata": {},
     "output_type": "execute_result"
    }
   ],
   "source": [
    "#check if there is rows where revenue value is 0\n",
    "df.query('budget == 0').head(2)"
   ]
  },
  {
   "cell_type": "markdown",
   "metadata": {},
   "source": [
    "$$\n",
    "\n",
    "\n",
    "\n",
    "\n",
    "\n",
    "$$\n",
    "##### **replace all 0 in budget with the mean of the budget**"
   ]
  },
  {
   "cell_type": "code",
   "execution_count": 675,
   "metadata": {},
   "outputs": [
    {
     "data": {
      "text/html": [
       "<div>\n",
       "<style scoped>\n",
       "    .dataframe tbody tr th:only-of-type {\n",
       "        vertical-align: middle;\n",
       "    }\n",
       "\n",
       "    .dataframe tbody tr th {\n",
       "        vertical-align: top;\n",
       "    }\n",
       "\n",
       "    .dataframe thead th {\n",
       "        text-align: right;\n",
       "    }\n",
       "</style>\n",
       "<table border=\"1\" class=\"dataframe\">\n",
       "  <thead>\n",
       "    <tr style=\"text-align: right;\">\n",
       "      <th></th>\n",
       "      <th>popularity</th>\n",
       "      <th>budget</th>\n",
       "      <th>revenue</th>\n",
       "      <th>original_title</th>\n",
       "      <th>director</th>\n",
       "      <th>keywords</th>\n",
       "      <th>overview</th>\n",
       "      <th>runtime</th>\n",
       "      <th>genres</th>\n",
       "      <th>production_companies</th>\n",
       "      <th>release_date</th>\n",
       "      <th>vote_count</th>\n",
       "      <th>vote_average</th>\n",
       "      <th>release_year</th>\n",
       "    </tr>\n",
       "  </thead>\n",
       "  <tbody>\n",
       "  </tbody>\n",
       "</table>\n",
       "</div>"
      ],
      "text/plain": [
       "Empty DataFrame\n",
       "Columns: [popularity, budget, revenue, original_title, director, keywords, overview, runtime, genres, production_companies, release_date, vote_count, vote_average, release_year]\n",
       "Index: []"
      ]
     },
     "execution_count": 675,
     "metadata": {},
     "output_type": "execute_result"
    }
   ],
   "source": [
    "#replace all 0 in budget with the mean of the budget\n",
    "df['budget'] = df['budget'].replace(0, df['budget'].mean())\n",
    "\n",
    "#check if all 0 has been replace\n",
    "df.query('budget == 0').head(2)"
   ]
  },
  {
   "cell_type": "markdown",
   "metadata": {},
   "source": [
    "$$\n",
    "\n",
    "\n",
    "\n",
    "\n",
    "\n",
    "\n",
    "\n",
    "\n",
    "\n",
    "$$\n",
    "\n",
    "\n",
    "##### **Check if runtime has a row with 0**"
   ]
  },
  {
   "cell_type": "code",
   "execution_count": 676,
   "metadata": {},
   "outputs": [
    {
     "data": {
      "text/html": [
       "<div>\n",
       "<style scoped>\n",
       "    .dataframe tbody tr th:only-of-type {\n",
       "        vertical-align: middle;\n",
       "    }\n",
       "\n",
       "    .dataframe tbody tr th {\n",
       "        vertical-align: top;\n",
       "    }\n",
       "\n",
       "    .dataframe thead th {\n",
       "        text-align: right;\n",
       "    }\n",
       "</style>\n",
       "<table border=\"1\" class=\"dataframe\">\n",
       "  <thead>\n",
       "    <tr style=\"text-align: right;\">\n",
       "      <th></th>\n",
       "      <th>popularity</th>\n",
       "      <th>budget</th>\n",
       "      <th>revenue</th>\n",
       "      <th>original_title</th>\n",
       "      <th>director</th>\n",
       "      <th>keywords</th>\n",
       "      <th>overview</th>\n",
       "      <th>runtime</th>\n",
       "      <th>genres</th>\n",
       "      <th>production_companies</th>\n",
       "      <th>release_date</th>\n",
       "      <th>vote_count</th>\n",
       "      <th>vote_average</th>\n",
       "      <th>release_year</th>\n",
       "    </tr>\n",
       "  </thead>\n",
       "  <tbody>\n",
       "    <tr>\n",
       "      <th>92</th>\n",
       "      <td>1.876037</td>\n",
       "      <td>1.462429e+07</td>\n",
       "      <td>0</td>\n",
       "      <td>Mythica: The Necromancer</td>\n",
       "      <td>A. Todd Smith</td>\n",
       "      <td>sword|magic|sorcery|necromancer</td>\n",
       "      <td>Mallister takes Thane prisoner and forces Mare...</td>\n",
       "      <td>0</td>\n",
       "      <td>Fantasy|Action|Adventure</td>\n",
       "      <td>Arrowstorm Entertainment|Camera 40 Productions...</td>\n",
       "      <td>12/19/15</td>\n",
       "      <td>11</td>\n",
       "      <td>5.4</td>\n",
       "      <td>2015</td>\n",
       "    </tr>\n",
       "    <tr>\n",
       "      <th>334</th>\n",
       "      <td>0.357654</td>\n",
       "      <td>1.462429e+07</td>\n",
       "      <td>0</td>\n",
       "      <td>Ronaldo</td>\n",
       "      <td>Anthony Wonke</td>\n",
       "      <td>biography|soccer player</td>\n",
       "      <td>Filmed over 14 months with unprecedented acces...</td>\n",
       "      <td>0</td>\n",
       "      <td>Documentary</td>\n",
       "      <td>On The Corner Films|We Came, We Saw, We Conque...</td>\n",
       "      <td>11/9/15</td>\n",
       "      <td>80</td>\n",
       "      <td>6.5</td>\n",
       "      <td>2015</td>\n",
       "    </tr>\n",
       "  </tbody>\n",
       "</table>\n",
       "</div>"
      ],
      "text/plain": [
       "     popularity        budget  revenue            original_title  \\\n",
       "92     1.876037  1.462429e+07        0  Mythica: The Necromancer   \n",
       "334    0.357654  1.462429e+07        0                   Ronaldo   \n",
       "\n",
       "          director                         keywords  \\\n",
       "92   A. Todd Smith  sword|magic|sorcery|necromancer   \n",
       "334  Anthony Wonke          biography|soccer player   \n",
       "\n",
       "                                              overview  runtime  \\\n",
       "92   Mallister takes Thane prisoner and forces Mare...        0   \n",
       "334  Filmed over 14 months with unprecedented acces...        0   \n",
       "\n",
       "                       genres  \\\n",
       "92   Fantasy|Action|Adventure   \n",
       "334               Documentary   \n",
       "\n",
       "                                  production_companies release_date  \\\n",
       "92   Arrowstorm Entertainment|Camera 40 Productions...     12/19/15   \n",
       "334  On The Corner Films|We Came, We Saw, We Conque...      11/9/15   \n",
       "\n",
       "     vote_count  vote_average  release_year  \n",
       "92           11           5.4          2015  \n",
       "334          80           6.5          2015  "
      ]
     },
     "execution_count": 676,
     "metadata": {},
     "output_type": "execute_result"
    }
   ],
   "source": [
    "#check if there is rows where runtime value is 0\n",
    "df.query('runtime == 0').head(2)"
   ]
  },
  {
   "cell_type": "markdown",
   "metadata": {},
   "source": [
    "$$\n",
    "\n",
    "\n",
    "\n",
    "\n",
    "\n",
    "$$\n",
    "#### **replace all 0 in runtime with the mean of the runtime**"
   ]
  },
  {
   "cell_type": "code",
   "execution_count": 677,
   "metadata": {},
   "outputs": [
    {
     "data": {
      "text/html": [
       "<div>\n",
       "<style scoped>\n",
       "    .dataframe tbody tr th:only-of-type {\n",
       "        vertical-align: middle;\n",
       "    }\n",
       "\n",
       "    .dataframe tbody tr th {\n",
       "        vertical-align: top;\n",
       "    }\n",
       "\n",
       "    .dataframe thead th {\n",
       "        text-align: right;\n",
       "    }\n",
       "</style>\n",
       "<table border=\"1\" class=\"dataframe\">\n",
       "  <thead>\n",
       "    <tr style=\"text-align: right;\">\n",
       "      <th></th>\n",
       "      <th>popularity</th>\n",
       "      <th>budget</th>\n",
       "      <th>revenue</th>\n",
       "      <th>original_title</th>\n",
       "      <th>director</th>\n",
       "      <th>keywords</th>\n",
       "      <th>overview</th>\n",
       "      <th>runtime</th>\n",
       "      <th>genres</th>\n",
       "      <th>production_companies</th>\n",
       "      <th>release_date</th>\n",
       "      <th>vote_count</th>\n",
       "      <th>vote_average</th>\n",
       "      <th>release_year</th>\n",
       "    </tr>\n",
       "  </thead>\n",
       "  <tbody>\n",
       "  </tbody>\n",
       "</table>\n",
       "</div>"
      ],
      "text/plain": [
       "Empty DataFrame\n",
       "Columns: [popularity, budget, revenue, original_title, director, keywords, overview, runtime, genres, production_companies, release_date, vote_count, vote_average, release_year]\n",
       "Index: []"
      ]
     },
     "execution_count": 677,
     "metadata": {},
     "output_type": "execute_result"
    }
   ],
   "source": [
    "#fill all 0 runtime by mean\n",
    "df['runtime'] = df['runtime'].replace(0, df['runtime'].mean())\n",
    "\n",
    "#check if all 0 has been replace\n",
    "df.query('budget == 0').head(2)"
   ]
  },
  {
   "cell_type": "markdown",
   "metadata": {},
   "source": [
    "$$\n",
    "\n",
    "\n",
    "\n",
    "\n",
    "\n",
    "\n",
    "\n",
    "\n",
    "\n",
    "$$\n",
    "\n",
    "\n",
    "#### **Check if revenue has a row with 0**"
   ]
  },
  {
   "cell_type": "code",
   "execution_count": 678,
   "metadata": {},
   "outputs": [
    {
     "data": {
      "text/html": [
       "<div>\n",
       "<style scoped>\n",
       "    .dataframe tbody tr th:only-of-type {\n",
       "        vertical-align: middle;\n",
       "    }\n",
       "\n",
       "    .dataframe tbody tr th {\n",
       "        vertical-align: top;\n",
       "    }\n",
       "\n",
       "    .dataframe thead th {\n",
       "        text-align: right;\n",
       "    }\n",
       "</style>\n",
       "<table border=\"1\" class=\"dataframe\">\n",
       "  <thead>\n",
       "    <tr style=\"text-align: right;\">\n",
       "      <th></th>\n",
       "      <th>popularity</th>\n",
       "      <th>budget</th>\n",
       "      <th>revenue</th>\n",
       "      <th>original_title</th>\n",
       "      <th>director</th>\n",
       "      <th>keywords</th>\n",
       "      <th>overview</th>\n",
       "      <th>runtime</th>\n",
       "      <th>genres</th>\n",
       "      <th>production_companies</th>\n",
       "      <th>release_date</th>\n",
       "      <th>vote_count</th>\n",
       "      <th>vote_average</th>\n",
       "      <th>release_year</th>\n",
       "    </tr>\n",
       "  </thead>\n",
       "  <tbody>\n",
       "    <tr>\n",
       "      <th>48</th>\n",
       "      <td>2.932340</td>\n",
       "      <td>30000000.0</td>\n",
       "      <td>0</td>\n",
       "      <td>Wild Card</td>\n",
       "      <td>Simon West</td>\n",
       "      <td>gambling|bodyguard|remake</td>\n",
       "      <td>When a Las Vegas bodyguard with lethal skills ...</td>\n",
       "      <td>92.0</td>\n",
       "      <td>Thriller|Crime|Drama</td>\n",
       "      <td>Current Entertainment|Lionsgate|Sierra / Affin...</td>\n",
       "      <td>1/14/15</td>\n",
       "      <td>481</td>\n",
       "      <td>5.3</td>\n",
       "      <td>2015</td>\n",
       "    </tr>\n",
       "    <tr>\n",
       "      <th>67</th>\n",
       "      <td>2.331636</td>\n",
       "      <td>20000000.0</td>\n",
       "      <td>0</td>\n",
       "      <td>Survivor</td>\n",
       "      <td>James McTeigue</td>\n",
       "      <td>new year's eve|fire|showdown|terrorist|embassy</td>\n",
       "      <td>A Foreign Service Officer in London tries to p...</td>\n",
       "      <td>96.0</td>\n",
       "      <td>Crime|Thriller|Action</td>\n",
       "      <td>Nu Image Films|Winkler Films|Millennium Films|...</td>\n",
       "      <td>5/21/15</td>\n",
       "      <td>280</td>\n",
       "      <td>5.4</td>\n",
       "      <td>2015</td>\n",
       "    </tr>\n",
       "  </tbody>\n",
       "</table>\n",
       "</div>"
      ],
      "text/plain": [
       "    popularity      budget  revenue original_title        director  \\\n",
       "48    2.932340  30000000.0        0      Wild Card      Simon West   \n",
       "67    2.331636  20000000.0        0       Survivor  James McTeigue   \n",
       "\n",
       "                                          keywords  \\\n",
       "48                       gambling|bodyguard|remake   \n",
       "67  new year's eve|fire|showdown|terrorist|embassy   \n",
       "\n",
       "                                             overview  runtime  \\\n",
       "48  When a Las Vegas bodyguard with lethal skills ...     92.0   \n",
       "67  A Foreign Service Officer in London tries to p...     96.0   \n",
       "\n",
       "                   genres                               production_companies  \\\n",
       "48   Thriller|Crime|Drama  Current Entertainment|Lionsgate|Sierra / Affin...   \n",
       "67  Crime|Thriller|Action  Nu Image Films|Winkler Films|Millennium Films|...   \n",
       "\n",
       "   release_date  vote_count  vote_average  release_year  \n",
       "48      1/14/15         481           5.3          2015  \n",
       "67      5/21/15         280           5.4          2015  "
      ]
     },
     "execution_count": 678,
     "metadata": {},
     "output_type": "execute_result"
    }
   ],
   "source": [
    "#check if there is rows where revenue value is 0\n",
    "df.query('revenue == 0').head(2)"
   ]
  },
  {
   "cell_type": "markdown",
   "metadata": {},
   "source": [
    "$$\n",
    "\n",
    "\n",
    "\n",
    "\n",
    "\n",
    "$$\n",
    "#### **replace all 0 in revenue with the mean of the revenue**"
   ]
  },
  {
   "cell_type": "code",
   "execution_count": 679,
   "metadata": {},
   "outputs": [
    {
     "data": {
      "text/html": [
       "<div>\n",
       "<style scoped>\n",
       "    .dataframe tbody tr th:only-of-type {\n",
       "        vertical-align: middle;\n",
       "    }\n",
       "\n",
       "    .dataframe tbody tr th {\n",
       "        vertical-align: top;\n",
       "    }\n",
       "\n",
       "    .dataframe thead th {\n",
       "        text-align: right;\n",
       "    }\n",
       "</style>\n",
       "<table border=\"1\" class=\"dataframe\">\n",
       "  <thead>\n",
       "    <tr style=\"text-align: right;\">\n",
       "      <th></th>\n",
       "      <th>popularity</th>\n",
       "      <th>budget</th>\n",
       "      <th>revenue</th>\n",
       "      <th>original_title</th>\n",
       "      <th>director</th>\n",
       "      <th>keywords</th>\n",
       "      <th>overview</th>\n",
       "      <th>runtime</th>\n",
       "      <th>genres</th>\n",
       "      <th>production_companies</th>\n",
       "      <th>release_date</th>\n",
       "      <th>vote_count</th>\n",
       "      <th>vote_average</th>\n",
       "      <th>release_year</th>\n",
       "    </tr>\n",
       "  </thead>\n",
       "  <tbody>\n",
       "  </tbody>\n",
       "</table>\n",
       "</div>"
      ],
      "text/plain": [
       "Empty DataFrame\n",
       "Columns: [popularity, budget, revenue, original_title, director, keywords, overview, runtime, genres, production_companies, release_date, vote_count, vote_average, release_year]\n",
       "Index: []"
      ]
     },
     "execution_count": 679,
     "metadata": {},
     "output_type": "execute_result"
    }
   ],
   "source": [
    "#fill all 0 revenue by mean\n",
    "df['revenue'] = df['revenue'].replace(0, df['revenue'].mean())\n",
    "\n",
    "#check if all 0 has been replace\n",
    "df.query('revenue == 0').head(2)"
   ]
  },
  {
   "cell_type": "markdown",
   "metadata": {},
   "source": [
    "#### **Drop all null value**"
   ]
  },
  {
   "cell_type": "code",
   "execution_count": 680,
   "metadata": {},
   "outputs": [
    {
     "name": "stdout",
     "output_type": "stream",
     "text": [
      "<class 'pandas.core.frame.DataFrame'>\n",
      "Int64Index: 8691 entries, 0 to 10865\n",
      "Data columns (total 14 columns):\n",
      " #   Column                Non-Null Count  Dtype  \n",
      "---  ------                --------------  -----  \n",
      " 0   popularity            8691 non-null   float64\n",
      " 1   budget                8691 non-null   float64\n",
      " 2   revenue               8691 non-null   float64\n",
      " 3   original_title        8691 non-null   object \n",
      " 4   director              8691 non-null   object \n",
      " 5   keywords              8691 non-null   object \n",
      " 6   overview              8691 non-null   object \n",
      " 7   runtime               8691 non-null   float64\n",
      " 8   genres                8691 non-null   object \n",
      " 9   production_companies  8691 non-null   object \n",
      " 10  release_date          8691 non-null   object \n",
      " 11  vote_count            8691 non-null   int64  \n",
      " 12  vote_average          8691 non-null   float64\n",
      " 13  release_year          8691 non-null   int64  \n",
      "dtypes: float64(5), int64(2), object(7)\n",
      "memory usage: 1018.5+ KB\n"
     ]
    }
   ],
   "source": [
    "#drop all null value\n",
    "df.dropna(inplace=True)\n",
    "df.info();"
   ]
  },
  {
   "cell_type": "markdown",
   "metadata": {},
   "source": [
    "<a id='eda'></a>\n",
    "## **Exploratory Data Analysis**"
   ]
  },
  {
   "cell_type": "markdown",
   "metadata": {},
   "source": [
    "#### **A general look on the data**"
   ]
  },
  {
   "cell_type": "code",
   "execution_count": 681,
   "metadata": {},
   "outputs": [
    {
     "data": {
      "image/png": "[encoded data removed]",
      "text/plain": [
       "<Figure size 1080x864 with 9 Axes>"
      ]
     },
     "metadata": {
      "needs_background": "light"
     },
     "output_type": "display_data"
    }
   ],
   "source": [
    "#plot quick histogram of all the columns\n",
    "df.hist(figsize=(15,12));"
   ]
  },
  {
   "cell_type": "markdown",
   "metadata": {},
   "source": [
    "<ul>\n",
    "<li> Most movies have a high budget,popularity and revenue </li>\n",
    "<li> release year from 2000 has a very high rate of movies released</li>\n",
    "<li> The Average runtime of most movies is 100</li>\n",
    "</ul>"
   ]
  },
  {
   "cell_type": "markdown",
   "metadata": {},
   "source": [
    "#### **Q1 Which genre are most popular from year to year**"
   ]
  },
  {
   "cell_type": "code",
   "execution_count": 682,
   "metadata": {},
   "outputs": [
    {
     "data": {
      "text/plain": [
       "0    Action|Adventure|Science Fiction|Thriller\n",
       "1    Action|Adventure|Science Fiction|Thriller\n",
       "Name: genres, dtype: object"
      ]
     },
     "execution_count": 682,
     "metadata": {},
     "output_type": "execute_result"
    }
   ],
   "source": [
    "#check genres column\n",
    "df['genres'].head(2)"
   ]
  },
  {
   "cell_type": "code",
   "execution_count": 683,
   "metadata": {},
   "outputs": [
    {
     "data": {
      "text/html": [
       "<div>\n",
       "<style scoped>\n",
       "    .dataframe tbody tr th:only-of-type {\n",
       "        vertical-align: middle;\n",
       "    }\n",
       "\n",
       "    .dataframe tbody tr th {\n",
       "        vertical-align: top;\n",
       "    }\n",
       "\n",
       "    .dataframe thead th {\n",
       "        text-align: right;\n",
       "    }\n",
       "</style>\n",
       "<table border=\"1\" class=\"dataframe\">\n",
       "  <thead>\n",
       "    <tr style=\"text-align: right;\">\n",
       "      <th></th>\n",
       "      <th>Action</th>\n",
       "      <th>Adventure</th>\n",
       "      <th>Animation</th>\n",
       "      <th>Comedy</th>\n",
       "      <th>Crime</th>\n",
       "      <th>Documentary</th>\n",
       "      <th>Drama</th>\n",
       "      <th>Family</th>\n",
       "      <th>Fantasy</th>\n",
       "      <th>Foreign</th>\n",
       "      <th>History</th>\n",
       "      <th>Horror</th>\n",
       "      <th>Music</th>\n",
       "      <th>Mystery</th>\n",
       "      <th>Romance</th>\n",
       "      <th>Science Fiction</th>\n",
       "      <th>TV Movie</th>\n",
       "      <th>Thriller</th>\n",
       "      <th>War</th>\n",
       "      <th>Western</th>\n",
       "    </tr>\n",
       "  </thead>\n",
       "  <tbody>\n",
       "    <tr>\n",
       "      <th>0</th>\n",
       "      <td>1</td>\n",
       "      <td>1</td>\n",
       "      <td>0</td>\n",
       "      <td>0</td>\n",
       "      <td>0</td>\n",
       "      <td>0</td>\n",
       "      <td>0</td>\n",
       "      <td>0</td>\n",
       "      <td>0</td>\n",
       "      <td>0</td>\n",
       "      <td>0</td>\n",
       "      <td>0</td>\n",
       "      <td>0</td>\n",
       "      <td>0</td>\n",
       "      <td>0</td>\n",
       "      <td>1</td>\n",
       "      <td>0</td>\n",
       "      <td>1</td>\n",
       "      <td>0</td>\n",
       "      <td>0</td>\n",
       "    </tr>\n",
       "    <tr>\n",
       "      <th>1</th>\n",
       "      <td>1</td>\n",
       "      <td>1</td>\n",
       "      <td>0</td>\n",
       "      <td>0</td>\n",
       "      <td>0</td>\n",
       "      <td>0</td>\n",
       "      <td>0</td>\n",
       "      <td>0</td>\n",
       "      <td>0</td>\n",
       "      <td>0</td>\n",
       "      <td>0</td>\n",
       "      <td>0</td>\n",
       "      <td>0</td>\n",
       "      <td>0</td>\n",
       "      <td>0</td>\n",
       "      <td>1</td>\n",
       "      <td>0</td>\n",
       "      <td>1</td>\n",
       "      <td>0</td>\n",
       "      <td>0</td>\n",
       "    </tr>\n",
       "  </tbody>\n",
       "</table>\n",
       "</div>"
      ],
      "text/plain": [
       "   Action  Adventure  Animation  Comedy  Crime  Documentary  Drama  Family  \\\n",
       "0       1          1          0       0      0            0      0       0   \n",
       "1       1          1          0       0      0            0      0       0   \n",
       "\n",
       "   Fantasy  Foreign  History  Horror  Music  Mystery  Romance  \\\n",
       "0        0        0        0       0      0        0        0   \n",
       "1        0        0        0       0      0        0        0   \n",
       "\n",
       "   Science Fiction  TV Movie  Thriller  War  Western  \n",
       "0                1         0         1    0        0  \n",
       "1                1         0         1    0        0  "
      ]
     },
     "execution_count": 683,
     "metadata": {},
     "output_type": "execute_result"
    }
   ],
   "source": [
    "#split genres column by the delimeter \"|\"\n",
    "split_genres = df['genres'].str.get_dummies(sep=\"|\")\n",
    "#check the split array\n",
    "split_genres.head(2)"
   ]
  },
  {
   "cell_type": "code",
   "execution_count": 684,
   "metadata": {},
   "outputs": [
    {
     "data": {
      "text/plain": [
       "Index(['Action', 'Adventure', 'Animation', 'Comedy', 'Crime', 'Documentary',\n",
       "       'Drama', 'Family', 'Fantasy', 'Foreign', 'History', 'Horror', 'Music',\n",
       "       'Mystery', 'Romance', 'Science Fiction', 'TV Movie', 'Thriller', 'War',\n",
       "       'Western'],\n",
       "      dtype='object')"
      ]
     },
     "execution_count": 684,
     "metadata": {},
     "output_type": "execute_result"
    }
   ],
   "source": [
    "#re-check the column of the split genres\n",
    "split_genres.columns"
   ]
  },
  {
   "cell_type": "code",
   "execution_count": 685,
   "metadata": {},
   "outputs": [
    {
     "data": {
      "text/plain": [
       "2022"
      ]
     },
     "execution_count": 685,
     "metadata": {},
     "output_type": "execute_result"
    }
   ],
   "source": [
    "#find the sum of a specific column before plotting the sum of all column to know if it's accurate\n",
    "split_genres['Action'].sum()"
   ]
  },
  {
   "cell_type": "code",
   "execution_count": 686,
   "metadata": {},
   "outputs": [
    {
     "data": {
      "image/png": "[encoded data removed]",
      "text/plain": [
       "<Figure size 1152x720 with 1 Axes>"
      ]
     },
     "metadata": {
      "needs_background": "light"
     },
     "output_type": "display_data"
    }
   ],
   "source": [
    "#plot horizontal bar chart of the split genres\n",
    "plt.figure(figsize=(16,10))\n",
    "plt.barh(split_genres.columns,split_genres.sum(),alpha=0.9)\n",
    "plt.show();"
   ]
  },
  {
   "cell_type": "markdown",
   "metadata": {},
   "source": [
    "##### **Drama is the most popular genres**"
   ]
  },
  {
   "cell_type": "markdown",
   "metadata": {},
   "source": [
    "#### From the above graph it is clear that there are 5 most popular genres and they are listed below according to there rank\n",
    "\n",
    "<ul> \n",
    "<li> Drama</li>\n",
    "<li>Comedy</li>\n",
    "<li>Thriller</li>\n",
    "<li>Action</li>\n",
    "<li>Romance</li>\n",
    "\n",
    "</ul>"
   ]
  },
  {
   "cell_type": "markdown",
   "metadata": {},
   "source": [
    "### **Q2 Who is the director with most number of movies**"
   ]
  },
  {
   "cell_type": "code",
   "execution_count": 687,
   "metadata": {},
   "outputs": [
    {
     "data": {
      "image/png": "[encoded data removed]",
      "text/plain": [
       "<Figure size 720x576 with 1 Axes>"
      ]
     },
     "metadata": {
      "needs_background": "light"
     },
     "output_type": "display_data"
    }
   ],
   "source": [
    "#plot graph of the total occurence of each director\n",
    "df['director'].value_counts().head(20).plot(kind='barh',figsize=(10,8));"
   ]
  },
  {
   "cell_type": "markdown",
   "metadata": {},
   "source": [
    "**The director with most number of movies**"
   ]
  },
  {
   "cell_type": "code",
   "execution_count": 688,
   "metadata": {},
   "outputs": [
    {
     "data": {
      "text/plain": [
       "40"
      ]
     },
     "execution_count": 688,
     "metadata": {},
     "output_type": "execute_result"
    }
   ],
   "source": [
    "#get the number of of movies directed by the Wooden Allen from the above graph\n",
    "df.query('director == \"Woody Allen\"').director.count()"
   ]
  },
  {
   "cell_type": "markdown",
   "metadata": {},
   "source": [
    "**Woody Allen direct the highest number of movies , he directed 40 movies in the given dataset**"
   ]
  },
  {
   "cell_type": "markdown",
   "metadata": {},
   "source": [
    "### **Q3 What kinds of properties are associated with movies that have high revenues?**"
   ]
  },
  {
   "cell_type": "code",
   "execution_count": 689,
   "metadata": {},
   "outputs": [],
   "source": [
    "#find the media of the revenue\n",
    "revenue_median = df['revenue'].median()"
   ]
  },
  {
   "cell_type": "code",
   "execution_count": 690,
   "metadata": {},
   "outputs": [],
   "source": [
    "#find the low revenue\n",
    "low_revenue = df.query('revenue <= {}'.format(revenue_median))"
   ]
  },
  {
   "cell_type": "code",
   "execution_count": 691,
   "metadata": {},
   "outputs": [],
   "source": [
    "#find the high revenue\n",
    "high_revenue = df.query('revenue>{}'.format(revenue_median))"
   ]
  },
  {
   "cell_type": "markdown",
   "metadata": {},
   "source": [
    "#### Function to find the mean of a specific column base on high revenue and low revenue"
   ]
  },
  {
   "cell_type": "code",
   "execution_count": 692,
   "metadata": {},
   "outputs": [],
   "source": [
    "#Function find the mean of of a column base on high_revenue and low_revenue\n",
    "def revenue_column_mean(column):\n",
    "    high_revenue_column_mean = high_revenue[column].mean()\n",
    "    low_revenue_column_mean = low_revenue[column].mean()\n",
    "    \n",
    "    return high_revenue_column_mean,low_revenue_column_mean"
   ]
  },
  {
   "cell_type": "markdown",
   "metadata": {},
   "source": [
    "#### Function to plot a bar chart of high revenue and low revenue for a certain column"
   ]
  },
  {
   "cell_type": "code",
   "execution_count": 693,
   "metadata": {},
   "outputs": [],
   "source": [
    "def plot_revenue(mean_high_revenue,mean_low_revenue,column):\n",
    "    locations = [1, 2]\n",
    "    heights = [mean_high_revenue,mean_low_revenue]\n",
    "    labels = ['High', 'Low']\n",
    "    plt.figure(figsize=(12,10))\n",
    "    plt.bar(locations, heights, tick_label=labels,alpha=0.5,color =['orangered','blue'])\n",
    "    plt.title('Associate of '+column+' on high and low revenue',fontsize=18)\n",
    "    plt.xlabel('Revenue',fontsize=18)\n",
    "    plt.ylabel(column,fontsize=18);\n",
    "    "
   ]
  },
  {
   "cell_type": "markdown",
   "metadata": {},
   "source": [
    "#### plot the popularity of both high revenue and low revenue to see if the popularity is associated with high revenue"
   ]
  },
  {
   "cell_type": "code",
   "execution_count": 694,
   "metadata": {},
   "outputs": [
    {
     "data": {
      "image/png": "[encoded data removed]",
      "text/plain": [
       "<Figure size 864x720 with 1 Axes>"
      ]
     },
     "metadata": {
      "needs_background": "light"
     },
     "output_type": "display_data"
    }
   ],
   "source": [
    "high_revenue_popularity_mean,low_revenue_popularity_mean = revenue_column_mean('popularity')\n",
    "plot_revenue(high_revenue_popularity_mean,low_revenue_popularity_mean,'popularity')"
   ]
  },
  {
   "cell_type": "markdown",
   "metadata": {},
   "source": [
    "#### plot the graph runtime of both high revenue and low revenue to see if the runtime is associated with high revenue"
   ]
  },
  {
   "cell_type": "code",
   "execution_count": 695,
   "metadata": {},
   "outputs": [
    {
     "data": {
      "image/png": "[encoded data removed]",
      "text/plain": [
       "<Figure size 864x720 with 1 Axes>"
      ]
     },
     "metadata": {
      "needs_background": "light"
     },
     "output_type": "display_data"
    }
   ],
   "source": [
    "high_revenue_runtime_mean,low_revenue_runtime_mean = revenue_column_mean('runtime')\n",
    "plot_revenue(high_revenue_runtime_mean,low_revenue_runtime_mean,'runtime')"
   ]
  },
  {
   "cell_type": "markdown",
   "metadata": {},
   "source": [
    "#### plot the graph vote count of both high revenue and low revenue to see if the vote count is associated with high revenue"
   ]
  },
  {
   "cell_type": "code",
   "execution_count": 696,
   "metadata": {},
   "outputs": [
    {
     "data": {
      "image/png": "[encoded data removed]",
      "text/plain": [
       "<Figure size 864x720 with 1 Axes>"
      ]
     },
     "metadata": {
      "needs_background": "light"
     },
     "output_type": "display_data"
    }
   ],
   "source": [
    "high_revenue_vote_count_mean,low_revenue_vote_count_mean = revenue_column_mean('vote_count')\n",
    "plot_revenue(high_revenue_vote_count_mean,low_revenue_vote_count_mean,'vote_count')"
   ]
  },
  {
   "cell_type": "markdown",
   "metadata": {},
   "source": [
    "#### plot the graph budget of both high revenue and low revenue to see if the budget is associated with high revenue"
   ]
  },
  {
   "cell_type": "code",
   "execution_count": 697,
   "metadata": {},
   "outputs": [
    {
     "data": {
      "image/png": "[encoded data removed]",
      "text/plain": [
       "<Figure size 864x720 with 1 Axes>"
      ]
     },
     "metadata": {
      "needs_background": "light"
     },
     "output_type": "display_data"
    }
   ],
   "source": [
    "high_revenue_budget_mean,low_revenue_budget_mean = revenue_column_mean('budget')\n",
    "plot_revenue(high_revenue_budget_mean,low_revenue_budget_mean,'budget')"
   ]
  },
  {
   "cell_type": "markdown",
   "metadata": {},
   "source": [
    "#### plot the graph production companies of both high revenue and low revenue to see if the production companies is associated with high revenue"
   ]
  },
  {
   "cell_type": "code",
   "execution_count": 698,
   "metadata": {},
   "outputs": [
    {
     "data": {
      "image/png": "[encoded data removed]",
      "text/plain": [
       "<Figure size 864x720 with 1 Axes>"
      ]
     },
     "metadata": {
      "needs_background": "light"
     },
     "output_type": "display_data"
    }
   ],
   "source": [
    "high_revenue_production_companies_mean,low_revenue_production_companies_mean =high_revenue['production_companies'].value_counts().mean(),low_revenue['production_companies'].value_counts().mean()\n",
    "plot_revenue(high_revenue_production_companies_mean,low_revenue_production_companies_mean,'production_companies')"
   ]
  },
  {
   "cell_type": "markdown",
   "metadata": {},
   "source": [
    "#### plot the graph genres of both high revenue and low revenue to see if the genres is associated with high revenue"
   ]
  },
  {
   "cell_type": "code",
   "execution_count": 699,
   "metadata": {},
   "outputs": [
    {
     "data": {
      "image/png": "[encoded data removed]",
      "text/plain": [
       "<Figure size 864x720 with 1 Axes>"
      ]
     },
     "metadata": {
      "needs_background": "light"
     },
     "output_type": "display_data"
    }
   ],
   "source": [
    "high_revenue_genres_mean,low_revenue_genres_mean =high_revenue['genres'].value_counts().mean(),low_revenue['genres'].value_counts().mean()\n",
    "plot_revenue(high_revenue_genres_mean,low_revenue_genres_mean,'genres')"
   ]
  },
  {
   "cell_type": "markdown",
   "metadata": {},
   "source": [
    "#### plot the graph release year of both high revenue and low revenue to see if the release year is associated with high revenue"
   ]
  },
  {
   "cell_type": "code",
   "execution_count": 700,
   "metadata": {},
   "outputs": [
    {
     "data": {
      "image/png": "[encoded data removed]",
      "text/plain": [
       "<Figure size 864x720 with 1 Axes>"
      ]
     },
     "metadata": {
      "needs_background": "light"
     },
     "output_type": "display_data"
    }
   ],
   "source": [
    "high_revenue_release_year_mean,low_revenue_release_year_mean = revenue_column_mean('release_year')\n",
    "plot_revenue(high_revenue_release_year_mean,low_revenue_release_year_mean,'release_year')"
   ]
  },
  {
   "cell_type": "markdown",
   "metadata": {},
   "source": [
    "#### plot the graph director of both high revenue and low revenue to see if the director is associated with high revenue"
   ]
  },
  {
   "cell_type": "code",
   "execution_count": 701,
   "metadata": {},
   "outputs": [
    {
     "data": {
      "image/png": "[encoded data removed]",
      "text/plain": [
       "<Figure size 864x720 with 1 Axes>"
      ]
     },
     "metadata": {
      "needs_background": "light"
     },
     "output_type": "display_data"
    }
   ],
   "source": [
    "high_revenue_director_mean,low_revenue_director_mean =high_revenue['director'].value_counts().mean(),low_revenue['director'].value_counts().mean()\n",
    "plot_revenue(high_revenue_director_mean,low_revenue_director_mean,'director')"
   ]
  },
  {
   "cell_type": "markdown",
   "metadata": {},
   "source": [
    "#### **From all the above graph it is clear that the below column are associated with revenue**\n",
    "<ul>\n",
    "<li> popularity</li>\n",
    "<li>budget</li>\n",
    "<li> vote_count</li>\n",
    "<li> runtime</li>\n",
    "<li> production_companies</li>\n",
    "<li> director</li>\n",
    "</ul>\n"
   ]
  },
  {
   "cell_type": "markdown",
   "metadata": {},
   "source": [
    "### **Q4 Which year has the highest number of movies release**"
   ]
  },
  {
   "cell_type": "code",
   "execution_count": 702,
   "metadata": {},
   "outputs": [
    {
     "data": {
      "text/html": [
       "<div>\n",
       "<style scoped>\n",
       "    .dataframe tbody tr th:only-of-type {\n",
       "        vertical-align: middle;\n",
       "    }\n",
       "\n",
       "    .dataframe tbody tr th {\n",
       "        vertical-align: top;\n",
       "    }\n",
       "\n",
       "    .dataframe thead th {\n",
       "        text-align: right;\n",
       "    }\n",
       "</style>\n",
       "<table border=\"1\" class=\"dataframe\">\n",
       "  <thead>\n",
       "    <tr style=\"text-align: right;\">\n",
       "      <th></th>\n",
       "      <th>index</th>\n",
       "      <th>release_year</th>\n",
       "    </tr>\n",
       "  </thead>\n",
       "  <tbody>\n",
       "    <tr>\n",
       "      <th>0</th>\n",
       "      <td>count</td>\n",
       "      <td>8691.000000</td>\n",
       "    </tr>\n",
       "    <tr>\n",
       "      <th>1</th>\n",
       "      <td>mean</td>\n",
       "      <td>2000.139800</td>\n",
       "    </tr>\n",
       "    <tr>\n",
       "      <th>2</th>\n",
       "      <td>std</td>\n",
       "      <td>13.217692</td>\n",
       "    </tr>\n",
       "    <tr>\n",
       "      <th>3</th>\n",
       "      <td>min</td>\n",
       "      <td>1960.000000</td>\n",
       "    </tr>\n",
       "    <tr>\n",
       "      <th>4</th>\n",
       "      <td>25%</td>\n",
       "      <td>1993.000000</td>\n",
       "    </tr>\n",
       "    <tr>\n",
       "      <th>5</th>\n",
       "      <td>50%</td>\n",
       "      <td>2004.000000</td>\n",
       "    </tr>\n",
       "    <tr>\n",
       "      <th>6</th>\n",
       "      <td>75%</td>\n",
       "      <td>2011.000000</td>\n",
       "    </tr>\n",
       "    <tr>\n",
       "      <th>7</th>\n",
       "      <td>max</td>\n",
       "      <td>2015.000000</td>\n",
       "    </tr>\n",
       "  </tbody>\n",
       "</table>\n",
       "</div>"
      ],
      "text/plain": [
       "   index  release_year\n",
       "0  count   8691.000000\n",
       "1   mean   2000.139800\n",
       "2    std     13.217692\n",
       "3    min   1960.000000\n",
       "4    25%   1993.000000\n",
       "5    50%   2004.000000\n",
       "6    75%   2011.000000\n",
       "7    max   2015.000000"
      ]
     },
     "execution_count": 702,
     "metadata": {},
     "output_type": "execute_result"
    }
   ],
   "source": [
    "pd.DataFrame(df.release_year.describe().reset_index())"
   ]
  },
  {
   "cell_type": "code",
   "execution_count": 703,
   "metadata": {},
   "outputs": [
    {
     "data": {
      "image/png": "[encoded data removed]",
      "text/plain": [
       "<Figure size 1080x720 with 1 Axes>"
      ]
     },
     "metadata": {
      "needs_background": "light"
     },
     "output_type": "display_data"
    }
   ],
   "source": [
    "#plot the graph of the total number of movies release for each year \n",
    "df.release_year.value_counts().head(15).plot(kind='barh',figsize=(15,10));\n",
    "plt.title(\"Year with the highest number of movies\",fontsize=18)\n",
    "plt.xlabel(\"Number of Movies\",fontsize=18)\n",
    "plt.ylabel(\"Years\",fontsize=18);"
   ]
  },
  {
   "cell_type": "code",
   "execution_count": 704,
   "metadata": {},
   "outputs": [
    {
     "data": {
      "text/plain": [
       "523"
      ]
     },
     "execution_count": 704,
     "metadata": {},
     "output_type": "execute_result"
    }
   ],
   "source": [
    "#check the value of the highest year from the graph above \n",
    "df[df['release_year']==2014].genres.count()"
   ]
  },
  {
   "cell_type": "markdown",
   "metadata": {},
   "source": [
    "#### From the above graph 2014 is the year with the highest number of release (523 movies)\n"
   ]
  },
  {
   "cell_type": "markdown",
   "metadata": {},
   "source": [
    "### **Q5 Which production_companies is the most popular**"
   ]
  },
  {
   "cell_type": "code",
   "execution_count": 705,
   "metadata": {},
   "outputs": [
    {
     "data": {
      "text/html": [
       "<div>\n",
       "<style scoped>\n",
       "    .dataframe tbody tr th:only-of-type {\n",
       "        vertical-align: middle;\n",
       "    }\n",
       "\n",
       "    .dataframe tbody tr th {\n",
       "        vertical-align: top;\n",
       "    }\n",
       "\n",
       "    .dataframe thead th {\n",
       "        text-align: right;\n",
       "    }\n",
       "</style>\n",
       "<table border=\"1\" class=\"dataframe\">\n",
       "  <thead>\n",
       "    <tr style=\"text-align: right;\">\n",
       "      <th></th>\n",
       "      <th>index</th>\n",
       "      <th>production_companies</th>\n",
       "    </tr>\n",
       "  </thead>\n",
       "  <tbody>\n",
       "    <tr>\n",
       "      <th>0</th>\n",
       "      <td>count</td>\n",
       "      <td>8691</td>\n",
       "    </tr>\n",
       "    <tr>\n",
       "      <th>1</th>\n",
       "      <td>unique</td>\n",
       "      <td>6613</td>\n",
       "    </tr>\n",
       "    <tr>\n",
       "      <th>2</th>\n",
       "      <td>top</td>\n",
       "      <td>Paramount Pictures</td>\n",
       "    </tr>\n",
       "    <tr>\n",
       "      <th>3</th>\n",
       "      <td>freq</td>\n",
       "      <td>151</td>\n",
       "    </tr>\n",
       "  </tbody>\n",
       "</table>\n",
       "</div>"
      ],
      "text/plain": [
       "    index production_companies\n",
       "0   count                 8691\n",
       "1  unique                 6613\n",
       "2     top   Paramount Pictures\n",
       "3    freq                  151"
      ]
     },
     "execution_count": 705,
     "metadata": {},
     "output_type": "execute_result"
    }
   ],
   "source": [
    "#statistic of production_companies\n",
    "pd.DataFrame(df['production_companies'].describe().reset_index())"
   ]
  },
  {
   "cell_type": "code",
   "execution_count": 706,
   "metadata": {},
   "outputs": [
    {
     "data": {
      "text/plain": [
       "0    Universal Studios|Amblin Entertainment|Legenda...\n",
       "1    Village Roadshow Pictures|Kennedy Miller Produ...\n",
       "2    Summit Entertainment|Mandeville Films|Red Wago...\n",
       "3            Lucasfilm|Truenorth Productions|Bad Robot\n",
       "4    Universal Pictures|Original Film|Media Rights ...\n",
       "Name: production_companies, dtype: object"
      ]
     },
     "execution_count": 706,
     "metadata": {},
     "output_type": "execute_result"
    }
   ],
   "source": [
    "#check production_companies column\n",
    "df['production_companies'].head()"
   ]
  },
  {
   "cell_type": "code",
   "execution_count": 707,
   "metadata": {},
   "outputs": [
    {
     "data": {
      "text/html": [
       "<div>\n",
       "<style scoped>\n",
       "    .dataframe tbody tr th:only-of-type {\n",
       "        vertical-align: middle;\n",
       "    }\n",
       "\n",
       "    .dataframe tbody tr th {\n",
       "        vertical-align: top;\n",
       "    }\n",
       "\n",
       "    .dataframe thead th {\n",
       "        text-align: right;\n",
       "    }\n",
       "</style>\n",
       "<table border=\"1\" class=\"dataframe\">\n",
       "  <thead>\n",
       "    <tr style=\"text-align: right;\">\n",
       "      <th></th>\n",
       "      <th>\"DIA\" Productions GmbH &amp; Co. KG</th>\n",
       "      <th># Lexyn Productions</th>\n",
       "      <th>10 West Studios</th>\n",
       "      <th>100 Feet Productions</th>\n",
       "      <th>1019 Entertainment</th>\n",
       "      <th>10th Hole Productions</th>\n",
       "      <th>11:11 Mediaworks</th>\n",
       "      <th>12 Gauge Productions</th>\n",
       "      <th>120dB Films</th>\n",
       "      <th>13 Ghosts Productions Canada Inc.</th>\n",
       "      <th>...</th>\n",
       "      <th>nu image films</th>\n",
       "      <th>platinum studios</th>\n",
       "      <th>the filmgroup</th>\n",
       "      <th>thefyzz</th>\n",
       "      <th>thinkfilm</th>\n",
       "      <th>uFilm</th>\n",
       "      <th>uFund</th>\n",
       "      <th>verture Films</th>\n",
       "      <th>Ã–sterreichischer Rundfunk (ORF)</th>\n",
       "      <th>í”„ë¡œë•ì…˜M</th>\n",
       "    </tr>\n",
       "  </thead>\n",
       "  <tbody>\n",
       "    <tr>\n",
       "      <th>0</th>\n",
       "      <td>0</td>\n",
       "      <td>0</td>\n",
       "      <td>0</td>\n",
       "      <td>0</td>\n",
       "      <td>0</td>\n",
       "      <td>0</td>\n",
       "      <td>0</td>\n",
       "      <td>0</td>\n",
       "      <td>0</td>\n",
       "      <td>0</td>\n",
       "      <td>...</td>\n",
       "      <td>0</td>\n",
       "      <td>0</td>\n",
       "      <td>0</td>\n",
       "      <td>0</td>\n",
       "      <td>0</td>\n",
       "      <td>0</td>\n",
       "      <td>0</td>\n",
       "      <td>0</td>\n",
       "      <td>0</td>\n",
       "      <td>0</td>\n",
       "    </tr>\n",
       "    <tr>\n",
       "      <th>1</th>\n",
       "      <td>0</td>\n",
       "      <td>0</td>\n",
       "      <td>0</td>\n",
       "      <td>0</td>\n",
       "      <td>0</td>\n",
       "      <td>0</td>\n",
       "      <td>0</td>\n",
       "      <td>0</td>\n",
       "      <td>0</td>\n",
       "      <td>0</td>\n",
       "      <td>...</td>\n",
       "      <td>0</td>\n",
       "      <td>0</td>\n",
       "      <td>0</td>\n",
       "      <td>0</td>\n",
       "      <td>0</td>\n",
       "      <td>0</td>\n",
       "      <td>0</td>\n",
       "      <td>0</td>\n",
       "      <td>0</td>\n",
       "      <td>0</td>\n",
       "    </tr>\n",
       "  </tbody>\n",
       "</table>\n",
       "<p>2 rows × 7068 columns</p>\n",
       "</div>"
      ],
      "text/plain": [
       "   \"DIA\" Productions GmbH & Co. KG  # Lexyn Productions  10 West Studios  \\\n",
       "0                                0                    0                0   \n",
       "1                                0                    0                0   \n",
       "\n",
       "   100 Feet Productions  1019 Entertainment  10th Hole Productions  \\\n",
       "0                     0                   0                      0   \n",
       "1                     0                   0                      0   \n",
       "\n",
       "   11:11 Mediaworks  12 Gauge Productions  120dB Films  \\\n",
       "0                 0                     0            0   \n",
       "1                 0                     0            0   \n",
       "\n",
       "   13 Ghosts Productions Canada Inc.  ...  nu image films  platinum studios  \\\n",
       "0                                  0  ...               0                 0   \n",
       "1                                  0  ...               0                 0   \n",
       "\n",
       "   the filmgroup  thefyzz  thinkfilm  uFilm  uFund  verture Films  \\\n",
       "0              0        0          0      0      0              0   \n",
       "1              0        0          0      0      0              0   \n",
       "\n",
       "   Ã–sterreichischer Rundfunk (ORF)  í”„ë¡œë•ì…˜M  \n",
       "0                                 0             0  \n",
       "1                                 0             0  \n",
       "\n",
       "[2 rows x 7068 columns]"
      ]
     },
     "execution_count": 707,
     "metadata": {},
     "output_type": "execute_result"
    }
   ],
   "source": [
    "#split the production companies since there is a delimeter \"|\"\n",
    "split_production_companies = df['production_companies'].str.get_dummies(sep=\"|\")\n",
    "#check the split\n",
    "split_production_companies.head(2)"
   ]
  },
  {
   "cell_type": "code",
   "execution_count": 708,
   "metadata": {},
   "outputs": [
    {
     "data": {
      "text/html": [
       "<div>\n",
       "<style scoped>\n",
       "    .dataframe tbody tr th:only-of-type {\n",
       "        vertical-align: middle;\n",
       "    }\n",
       "\n",
       "    .dataframe tbody tr th {\n",
       "        vertical-align: top;\n",
       "    }\n",
       "\n",
       "    .dataframe thead th {\n",
       "        text-align: right;\n",
       "    }\n",
       "</style>\n",
       "<table border=\"1\" class=\"dataframe\">\n",
       "  <thead>\n",
       "    <tr style=\"text-align: right;\">\n",
       "      <th></th>\n",
       "      <th>\"DIA\" Productions GmbH &amp; Co. KG</th>\n",
       "      <th># Lexyn Productions</th>\n",
       "      <th>10 West Studios</th>\n",
       "      <th>100 Feet Productions</th>\n",
       "      <th>1019 Entertainment</th>\n",
       "      <th>10th Hole Productions</th>\n",
       "      <th>11:11 Mediaworks</th>\n",
       "      <th>12 Gauge Productions</th>\n",
       "      <th>120dB Films</th>\n",
       "      <th>13 Ghosts Productions Canada Inc.</th>\n",
       "      <th>...</th>\n",
       "      <th>nu image films</th>\n",
       "      <th>platinum studios</th>\n",
       "      <th>the filmgroup</th>\n",
       "      <th>thefyzz</th>\n",
       "      <th>thinkfilm</th>\n",
       "      <th>uFilm</th>\n",
       "      <th>uFund</th>\n",
       "      <th>verture Films</th>\n",
       "      <th>Ã–sterreichischer Rundfunk (ORF)</th>\n",
       "      <th>í”„ë¡œë•ì…˜M</th>\n",
       "    </tr>\n",
       "  </thead>\n",
       "  <tbody>\n",
       "    <tr>\n",
       "      <th>count</th>\n",
       "      <td>8691.000000</td>\n",
       "      <td>8691.000000</td>\n",
       "      <td>8691.000000</td>\n",
       "      <td>8691.000000</td>\n",
       "      <td>8691.000000</td>\n",
       "      <td>8691.000000</td>\n",
       "      <td>8691.000000</td>\n",
       "      <td>8691.000000</td>\n",
       "      <td>8691.000000</td>\n",
       "      <td>8691.000000</td>\n",
       "      <td>...</td>\n",
       "      <td>8691.000000</td>\n",
       "      <td>8691.000000</td>\n",
       "      <td>8691.000000</td>\n",
       "      <td>8691.000000</td>\n",
       "      <td>8691.000000</td>\n",
       "      <td>8691.000000</td>\n",
       "      <td>8691.000000</td>\n",
       "      <td>8691.000000</td>\n",
       "      <td>8691.000000</td>\n",
       "      <td>8691.000000</td>\n",
       "    </tr>\n",
       "    <tr>\n",
       "      <th>mean</th>\n",
       "      <td>0.000115</td>\n",
       "      <td>0.000115</td>\n",
       "      <td>0.000115</td>\n",
       "      <td>0.000115</td>\n",
       "      <td>0.000115</td>\n",
       "      <td>0.000345</td>\n",
       "      <td>0.000115</td>\n",
       "      <td>0.000115</td>\n",
       "      <td>0.000575</td>\n",
       "      <td>0.000115</td>\n",
       "      <td>...</td>\n",
       "      <td>0.000230</td>\n",
       "      <td>0.000230</td>\n",
       "      <td>0.000115</td>\n",
       "      <td>0.000115</td>\n",
       "      <td>0.000115</td>\n",
       "      <td>0.000920</td>\n",
       "      <td>0.000115</td>\n",
       "      <td>0.000115</td>\n",
       "      <td>0.000115</td>\n",
       "      <td>0.000115</td>\n",
       "    </tr>\n",
       "    <tr>\n",
       "      <th>std</th>\n",
       "      <td>0.010727</td>\n",
       "      <td>0.010727</td>\n",
       "      <td>0.010727</td>\n",
       "      <td>0.010727</td>\n",
       "      <td>0.010727</td>\n",
       "      <td>0.018577</td>\n",
       "      <td>0.010727</td>\n",
       "      <td>0.010727</td>\n",
       "      <td>0.023980</td>\n",
       "      <td>0.010727</td>\n",
       "      <td>...</td>\n",
       "      <td>0.015169</td>\n",
       "      <td>0.015169</td>\n",
       "      <td>0.010727</td>\n",
       "      <td>0.010727</td>\n",
       "      <td>0.010727</td>\n",
       "      <td>0.030327</td>\n",
       "      <td>0.010727</td>\n",
       "      <td>0.010727</td>\n",
       "      <td>0.010727</td>\n",
       "      <td>0.010727</td>\n",
       "    </tr>\n",
       "    <tr>\n",
       "      <th>min</th>\n",
       "      <td>0.000000</td>\n",
       "      <td>0.000000</td>\n",
       "      <td>0.000000</td>\n",
       "      <td>0.000000</td>\n",
       "      <td>0.000000</td>\n",
       "      <td>0.000000</td>\n",
       "      <td>0.000000</td>\n",
       "      <td>0.000000</td>\n",
       "      <td>0.000000</td>\n",
       "      <td>0.000000</td>\n",
       "      <td>...</td>\n",
       "      <td>0.000000</td>\n",
       "      <td>0.000000</td>\n",
       "      <td>0.000000</td>\n",
       "      <td>0.000000</td>\n",
       "      <td>0.000000</td>\n",
       "      <td>0.000000</td>\n",
       "      <td>0.000000</td>\n",
       "      <td>0.000000</td>\n",
       "      <td>0.000000</td>\n",
       "      <td>0.000000</td>\n",
       "    </tr>\n",
       "    <tr>\n",
       "      <th>25%</th>\n",
       "      <td>0.000000</td>\n",
       "      <td>0.000000</td>\n",
       "      <td>0.000000</td>\n",
       "      <td>0.000000</td>\n",
       "      <td>0.000000</td>\n",
       "      <td>0.000000</td>\n",
       "      <td>0.000000</td>\n",
       "      <td>0.000000</td>\n",
       "      <td>0.000000</td>\n",
       "      <td>0.000000</td>\n",
       "      <td>...</td>\n",
       "      <td>0.000000</td>\n",
       "      <td>0.000000</td>\n",
       "      <td>0.000000</td>\n",
       "      <td>0.000000</td>\n",
       "      <td>0.000000</td>\n",
       "      <td>0.000000</td>\n",
       "      <td>0.000000</td>\n",
       "      <td>0.000000</td>\n",
       "      <td>0.000000</td>\n",
       "      <td>0.000000</td>\n",
       "    </tr>\n",
       "    <tr>\n",
       "      <th>50%</th>\n",
       "      <td>0.000000</td>\n",
       "      <td>0.000000</td>\n",
       "      <td>0.000000</td>\n",
       "      <td>0.000000</td>\n",
       "      <td>0.000000</td>\n",
       "      <td>0.000000</td>\n",
       "      <td>0.000000</td>\n",
       "      <td>0.000000</td>\n",
       "      <td>0.000000</td>\n",
       "      <td>0.000000</td>\n",
       "      <td>...</td>\n",
       "      <td>0.000000</td>\n",
       "      <td>0.000000</td>\n",
       "      <td>0.000000</td>\n",
       "      <td>0.000000</td>\n",
       "      <td>0.000000</td>\n",
       "      <td>0.000000</td>\n",
       "      <td>0.000000</td>\n",
       "      <td>0.000000</td>\n",
       "      <td>0.000000</td>\n",
       "      <td>0.000000</td>\n",
       "    </tr>\n",
       "    <tr>\n",
       "      <th>75%</th>\n",
       "      <td>0.000000</td>\n",
       "      <td>0.000000</td>\n",
       "      <td>0.000000</td>\n",
       "      <td>0.000000</td>\n",
       "      <td>0.000000</td>\n",
       "      <td>0.000000</td>\n",
       "      <td>0.000000</td>\n",
       "      <td>0.000000</td>\n",
       "      <td>0.000000</td>\n",
       "      <td>0.000000</td>\n",
       "      <td>...</td>\n",
       "      <td>0.000000</td>\n",
       "      <td>0.000000</td>\n",
       "      <td>0.000000</td>\n",
       "      <td>0.000000</td>\n",
       "      <td>0.000000</td>\n",
       "      <td>0.000000</td>\n",
       "      <td>0.000000</td>\n",
       "      <td>0.000000</td>\n",
       "      <td>0.000000</td>\n",
       "      <td>0.000000</td>\n",
       "    </tr>\n",
       "    <tr>\n",
       "      <th>max</th>\n",
       "      <td>1.000000</td>\n",
       "      <td>1.000000</td>\n",
       "      <td>1.000000</td>\n",
       "      <td>1.000000</td>\n",
       "      <td>1.000000</td>\n",
       "      <td>1.000000</td>\n",
       "      <td>1.000000</td>\n",
       "      <td>1.000000</td>\n",
       "      <td>1.000000</td>\n",
       "      <td>1.000000</td>\n",
       "      <td>...</td>\n",
       "      <td>1.000000</td>\n",
       "      <td>1.000000</td>\n",
       "      <td>1.000000</td>\n",
       "      <td>1.000000</td>\n",
       "      <td>1.000000</td>\n",
       "      <td>1.000000</td>\n",
       "      <td>1.000000</td>\n",
       "      <td>1.000000</td>\n",
       "      <td>1.000000</td>\n",
       "      <td>1.000000</td>\n",
       "    </tr>\n",
       "  </tbody>\n",
       "</table>\n",
       "<p>8 rows × 7068 columns</p>\n",
       "</div>"
      ],
      "text/plain": [
       "       \"DIA\" Productions GmbH & Co. KG  # Lexyn Productions  10 West Studios  \\\n",
       "count                      8691.000000          8691.000000      8691.000000   \n",
       "mean                          0.000115             0.000115         0.000115   \n",
       "std                           0.010727             0.010727         0.010727   \n",
       "min                           0.000000             0.000000         0.000000   \n",
       "25%                           0.000000             0.000000         0.000000   \n",
       "50%                           0.000000             0.000000         0.000000   \n",
       "75%                           0.000000             0.000000         0.000000   \n",
       "max                           1.000000             1.000000         1.000000   \n",
       "\n",
       "       100 Feet Productions  1019 Entertainment  10th Hole Productions  \\\n",
       "count           8691.000000         8691.000000            8691.000000   \n",
       "mean               0.000115            0.000115               0.000345   \n",
       "std                0.010727            0.010727               0.018577   \n",
       "min                0.000000            0.000000               0.000000   \n",
       "25%                0.000000            0.000000               0.000000   \n",
       "50%                0.000000            0.000000               0.000000   \n",
       "75%                0.000000            0.000000               0.000000   \n",
       "max                1.000000            1.000000               1.000000   \n",
       "\n",
       "       11:11 Mediaworks  12 Gauge Productions  120dB Films  \\\n",
       "count       8691.000000           8691.000000  8691.000000   \n",
       "mean           0.000115              0.000115     0.000575   \n",
       "std            0.010727              0.010727     0.023980   \n",
       "min            0.000000              0.000000     0.000000   \n",
       "25%            0.000000              0.000000     0.000000   \n",
       "50%            0.000000              0.000000     0.000000   \n",
       "75%            0.000000              0.000000     0.000000   \n",
       "max            1.000000              1.000000     1.000000   \n",
       "\n",
       "       13 Ghosts Productions Canada Inc.  ...  nu image films  \\\n",
       "count                        8691.000000  ...     8691.000000   \n",
       "mean                            0.000115  ...        0.000230   \n",
       "std                             0.010727  ...        0.015169   \n",
       "min                             0.000000  ...        0.000000   \n",
       "25%                             0.000000  ...        0.000000   \n",
       "50%                             0.000000  ...        0.000000   \n",
       "75%                             0.000000  ...        0.000000   \n",
       "max                             1.000000  ...        1.000000   \n",
       "\n",
       "       platinum studios  the filmgroup      thefyzz    thinkfilm        uFilm  \\\n",
       "count       8691.000000    8691.000000  8691.000000  8691.000000  8691.000000   \n",
       "mean           0.000230       0.000115     0.000115     0.000115     0.000920   \n",
       "std            0.015169       0.010727     0.010727     0.010727     0.030327   \n",
       "min            0.000000       0.000000     0.000000     0.000000     0.000000   \n",
       "25%            0.000000       0.000000     0.000000     0.000000     0.000000   \n",
       "50%            0.000000       0.000000     0.000000     0.000000     0.000000   \n",
       "75%            0.000000       0.000000     0.000000     0.000000     0.000000   \n",
       "max            1.000000       1.000000     1.000000     1.000000     1.000000   \n",
       "\n",
       "             uFund  verture Films  Ã–sterreichischer Rundfunk (ORF)  \\\n",
       "count  8691.000000    8691.000000                       8691.000000   \n",
       "mean      0.000115       0.000115                          0.000115   \n",
       "std       0.010727       0.010727                          0.010727   \n",
       "min       0.000000       0.000000                          0.000000   \n",
       "25%       0.000000       0.000000                          0.000000   \n",
       "50%       0.000000       0.000000                          0.000000   \n",
       "75%       0.000000       0.000000                          0.000000   \n",
       "max       1.000000       1.000000                          1.000000   \n",
       "\n",
       "       í”„ë¡œë•ì…˜M  \n",
       "count   8691.000000  \n",
       "mean       0.000115  \n",
       "std        0.010727  \n",
       "min        0.000000  \n",
       "25%        0.000000  \n",
       "50%        0.000000  \n",
       "75%        0.000000  \n",
       "max        1.000000  \n",
       "\n",
       "[8 rows x 7068 columns]"
      ]
     },
     "execution_count": 708,
     "metadata": {},
     "output_type": "execute_result"
    }
   ],
   "source": [
    "#statistic of production_companies\n",
    "pd.DataFrame(split_production_companies.describe())"
   ]
  },
  {
   "cell_type": "code",
   "execution_count": 709,
   "metadata": {},
   "outputs": [
    {
     "data": {
      "text/plain": [
       "\"DIA\" Productions GmbH & Co. KG    1\n",
       "# Lexyn Productions                1\n",
       "dtype: int64"
      ]
     },
     "execution_count": 709,
     "metadata": {},
     "output_type": "execute_result"
    }
   ],
   "source": [
    "#find the sum of all production companies one after the other\n",
    "split_production_companies.sum().head(2)"
   ]
  },
  {
   "cell_type": "markdown",
   "metadata": {},
   "source": [
    "The column is 7068 which is too much to be visualize, the function below we be use to remove columns that have low count"
   ]
  },
  {
   "cell_type": "code",
   "execution_count": 710,
   "metadata": {},
   "outputs": [],
   "source": [
    "#minimum values used is 200, if there is any column that has count less than 200, it will be dropped\n",
    "def remove_low_column(dataframe):\n",
    "    df = dataframe.loc[:, dataframe.sum(axis=0) > 200]\n",
    "    return df"
   ]
  },
  {
   "cell_type": "markdown",
   "metadata": {},
   "source": [
    "make use of the above function to remove columns that have max values not more than 10 to reduce the available columns"
   ]
  },
  {
   "cell_type": "code",
   "execution_count": 711,
   "metadata": {},
   "outputs": [
    {
     "data": {
      "text/html": [
       "<div>\n",
       "<style scoped>\n",
       "    .dataframe tbody tr th:only-of-type {\n",
       "        vertical-align: middle;\n",
       "    }\n",
       "\n",
       "    .dataframe tbody tr th {\n",
       "        vertical-align: top;\n",
       "    }\n",
       "\n",
       "    .dataframe thead th {\n",
       "        text-align: right;\n",
       "    }\n",
       "</style>\n",
       "<table border=\"1\" class=\"dataframe\">\n",
       "  <thead>\n",
       "    <tr style=\"text-align: right;\">\n",
       "      <th></th>\n",
       "      <th>Columbia Pictures</th>\n",
       "      <th>Metro-Goldwyn-Mayer (MGM)</th>\n",
       "      <th>New Line Cinema</th>\n",
       "      <th>Paramount Pictures</th>\n",
       "      <th>Twentieth Century Fox Film Corporation</th>\n",
       "      <th>Universal Pictures</th>\n",
       "      <th>Warner Bros.</th>\n",
       "    </tr>\n",
       "  </thead>\n",
       "  <tbody>\n",
       "    <tr>\n",
       "      <th>0</th>\n",
       "      <td>0</td>\n",
       "      <td>0</td>\n",
       "      <td>0</td>\n",
       "      <td>0</td>\n",
       "      <td>0</td>\n",
       "      <td>0</td>\n",
       "      <td>0</td>\n",
       "    </tr>\n",
       "    <tr>\n",
       "      <th>1</th>\n",
       "      <td>0</td>\n",
       "      <td>0</td>\n",
       "      <td>0</td>\n",
       "      <td>0</td>\n",
       "      <td>0</td>\n",
       "      <td>0</td>\n",
       "      <td>0</td>\n",
       "    </tr>\n",
       "    <tr>\n",
       "      <th>2</th>\n",
       "      <td>0</td>\n",
       "      <td>0</td>\n",
       "      <td>0</td>\n",
       "      <td>0</td>\n",
       "      <td>0</td>\n",
       "      <td>0</td>\n",
       "      <td>0</td>\n",
       "    </tr>\n",
       "    <tr>\n",
       "      <th>3</th>\n",
       "      <td>0</td>\n",
       "      <td>0</td>\n",
       "      <td>0</td>\n",
       "      <td>0</td>\n",
       "      <td>0</td>\n",
       "      <td>0</td>\n",
       "      <td>0</td>\n",
       "    </tr>\n",
       "    <tr>\n",
       "      <th>4</th>\n",
       "      <td>0</td>\n",
       "      <td>0</td>\n",
       "      <td>0</td>\n",
       "      <td>0</td>\n",
       "      <td>0</td>\n",
       "      <td>1</td>\n",
       "      <td>0</td>\n",
       "    </tr>\n",
       "  </tbody>\n",
       "</table>\n",
       "</div>"
      ],
      "text/plain": [
       "   Columbia Pictures  Metro-Goldwyn-Mayer (MGM)  New Line Cinema  \\\n",
       "0                  0                          0                0   \n",
       "1                  0                          0                0   \n",
       "2                  0                          0                0   \n",
       "3                  0                          0                0   \n",
       "4                  0                          0                0   \n",
       "\n",
       "   Paramount Pictures  Twentieth Century Fox Film Corporation  \\\n",
       "0                   0                                       0   \n",
       "1                   0                                       0   \n",
       "2                   0                                       0   \n",
       "3                   0                                       0   \n",
       "4                   0                                       0   \n",
       "\n",
       "   Universal Pictures  Warner Bros.  \n",
       "0                   0             0  \n",
       "1                   0             0  \n",
       "2                   0             0  \n",
       "3                   0             0  \n",
       "4                   1             0  "
      ]
     },
     "execution_count": 711,
     "metadata": {},
     "output_type": "execute_result"
    }
   ],
   "source": [
    "new_production_companies = remove_low_column(split_production_companies)\n",
    "new_production_companies.head()"
   ]
  },
  {
   "cell_type": "code",
   "execution_count": 712,
   "metadata": {},
   "outputs": [
    {
     "data": {
      "image/png": "[encoded data removed]",
      "text/plain": [
       "<Figure size 720x576 with 1 Axes>"
      ]
     },
     "metadata": {
      "needs_background": "light"
     },
     "output_type": "display_data"
    }
   ],
   "source": [
    "#plot the graph of new_production_companies to check \n",
    "plt.figure(figsize=(10,8))\n",
    "plt.barh(new_production_companies.columns,new_production_companies.sum(),alpha=0.6);\n",
    "plt.title(\"Most popular production company\",fontsize=18)\n",
    "plt.xlabel(\"Number of Popularity\",fontsize=18)\n",
    "plt.ylabel(\"Production Companies\",fontsize=18);\n"
   ]
  },
  {
   "cell_type": "code",
   "execution_count": 713,
   "metadata": {},
   "outputs": [
    {
     "data": {
      "text/plain": [
       "495"
      ]
     },
     "execution_count": 713,
     "metadata": {},
     "output_type": "execute_result"
    }
   ],
   "source": [
    "#find the sum of value for Warner Bros. from the graph above\n",
    "new_production_companies['Warner Bros.'].sum()"
   ]
  },
  {
   "cell_type": "markdown",
   "metadata": {},
   "source": [
    "#### Warner Bros is the most popular production companies base on the number of film produced, it produce 495 movies across the year"
   ]
  },
  {
   "cell_type": "markdown",
   "metadata": {},
   "source": [
    "### **Q6 What are the longest and shortest movies from year to year**"
   ]
  },
  {
   "cell_type": "code",
   "execution_count": 714,
   "metadata": {},
   "outputs": [
    {
     "data": {
      "text/html": [
       "<div>\n",
       "<style scoped>\n",
       "    .dataframe tbody tr th:only-of-type {\n",
       "        vertical-align: middle;\n",
       "    }\n",
       "\n",
       "    .dataframe tbody tr th {\n",
       "        vertical-align: top;\n",
       "    }\n",
       "\n",
       "    .dataframe thead th {\n",
       "        text-align: right;\n",
       "    }\n",
       "</style>\n",
       "<table border=\"1\" class=\"dataframe\">\n",
       "  <thead>\n",
       "    <tr style=\"text-align: right;\">\n",
       "      <th></th>\n",
       "      <th>runtime</th>\n",
       "    </tr>\n",
       "  </thead>\n",
       "  <tbody>\n",
       "    <tr>\n",
       "      <th>count</th>\n",
       "      <td>8691.000000</td>\n",
       "    </tr>\n",
       "    <tr>\n",
       "      <th>mean</th>\n",
       "      <td>103.751180</td>\n",
       "    </tr>\n",
       "    <tr>\n",
       "      <th>std</th>\n",
       "      <td>26.276793</td>\n",
       "    </tr>\n",
       "    <tr>\n",
       "      <th>min</th>\n",
       "      <td>2.000000</td>\n",
       "    </tr>\n",
       "    <tr>\n",
       "      <th>25%</th>\n",
       "      <td>91.000000</td>\n",
       "    </tr>\n",
       "    <tr>\n",
       "      <th>50%</th>\n",
       "      <td>100.000000</td>\n",
       "    </tr>\n",
       "    <tr>\n",
       "      <th>75%</th>\n",
       "      <td>113.000000</td>\n",
       "    </tr>\n",
       "    <tr>\n",
       "      <th>max</th>\n",
       "      <td>705.000000</td>\n",
       "    </tr>\n",
       "  </tbody>\n",
       "</table>\n",
       "</div>"
      ],
      "text/plain": [
       "           runtime\n",
       "count  8691.000000\n",
       "mean    103.751180\n",
       "std      26.276793\n",
       "min       2.000000\n",
       "25%      91.000000\n",
       "50%     100.000000\n",
       "75%     113.000000\n",
       "max     705.000000"
      ]
     },
     "execution_count": 714,
     "metadata": {},
     "output_type": "execute_result"
    }
   ],
   "source": [
    "pd.DataFrame(df['runtime'].describe())"
   ]
  },
  {
   "cell_type": "code",
   "execution_count": 715,
   "metadata": {},
   "outputs": [
    {
     "data": {
      "text/plain": [
       "0                         Jurassic World\n",
       "1                     Mad Max: Fury Road\n",
       "2                              Insurgent\n",
       "3           Star Wars: The Force Awakens\n",
       "4                              Furious 7\n",
       "                      ...               \n",
       "10820    How the Grinch Stole Christmas!\n",
       "10824     The Bible: In the Beginning...\n",
       "10835                   The Sand Pebbles\n",
       "10837                       The Blue Max\n",
       "10862                         Grand Prix\n",
       "Name: original_title, Length: 796, dtype: object"
      ]
     },
     "execution_count": 715,
     "metadata": {},
     "output_type": "execute_result"
    }
   ],
   "source": [
    "#group column by runtime and original_title\n",
    "df.groupby('runtime')['original_title'].head()"
   ]
  },
  {
   "cell_type": "code",
   "execution_count": 716,
   "metadata": {},
   "outputs": [
    {
     "data": {
      "text/html": [
       "<div>\n",
       "<style scoped>\n",
       "    .dataframe tbody tr th:only-of-type {\n",
       "        vertical-align: middle;\n",
       "    }\n",
       "\n",
       "    .dataframe tbody tr th {\n",
       "        vertical-align: top;\n",
       "    }\n",
       "\n",
       "    .dataframe thead th {\n",
       "        text-align: right;\n",
       "    }\n",
       "</style>\n",
       "<table border=\"1\" class=\"dataframe\">\n",
       "  <thead>\n",
       "    <tr style=\"text-align: right;\">\n",
       "      <th></th>\n",
       "      <th>count</th>\n",
       "      <th>unique</th>\n",
       "      <th>top</th>\n",
       "      <th>freq</th>\n",
       "    </tr>\n",
       "    <tr>\n",
       "      <th>runtime</th>\n",
       "      <th></th>\n",
       "      <th></th>\n",
       "      <th></th>\n",
       "      <th></th>\n",
       "    </tr>\n",
       "  </thead>\n",
       "  <tbody>\n",
       "    <tr>\n",
       "      <th>2.0</th>\n",
       "      <td>2</td>\n",
       "      <td>2</td>\n",
       "      <td>The Adventures of AndrÃ© and Wally B.</td>\n",
       "      <td>1</td>\n",
       "    </tr>\n",
       "    <tr>\n",
       "      <th>3.0</th>\n",
       "      <td>4</td>\n",
       "      <td>4</td>\n",
       "      <td>Batman: Strange Days</td>\n",
       "      <td>1</td>\n",
       "    </tr>\n",
       "    <tr>\n",
       "      <th>4.0</th>\n",
       "      <td>9</td>\n",
       "      <td>9</td>\n",
       "      <td>Minions: The Competition</td>\n",
       "      <td>1</td>\n",
       "    </tr>\n",
       "    <tr>\n",
       "      <th>5.0</th>\n",
       "      <td>11</td>\n",
       "      <td>11</td>\n",
       "      <td>Riley's First Date?</td>\n",
       "      <td>1</td>\n",
       "    </tr>\n",
       "    <tr>\n",
       "      <th>6.0</th>\n",
       "      <td>12</td>\n",
       "      <td>12</td>\n",
       "      <td>Feast</td>\n",
       "      <td>1</td>\n",
       "    </tr>\n",
       "    <tr>\n",
       "      <th>...</th>\n",
       "      <td>...</td>\n",
       "      <td>...</td>\n",
       "      <td>...</td>\n",
       "      <td>...</td>\n",
       "    </tr>\n",
       "    <tr>\n",
       "      <th>421.0</th>\n",
       "      <td>1</td>\n",
       "      <td>1</td>\n",
       "      <td>The Pillars of the Earth</td>\n",
       "      <td>1</td>\n",
       "    </tr>\n",
       "    <tr>\n",
       "      <th>470.0</th>\n",
       "      <td>1</td>\n",
       "      <td>1</td>\n",
       "      <td>Generation Kill</td>\n",
       "      <td>1</td>\n",
       "    </tr>\n",
       "    <tr>\n",
       "      <th>500.0</th>\n",
       "      <td>1</td>\n",
       "      <td>1</td>\n",
       "      <td>Life</td>\n",
       "      <td>1</td>\n",
       "    </tr>\n",
       "    <tr>\n",
       "      <th>540.0</th>\n",
       "      <td>1</td>\n",
       "      <td>1</td>\n",
       "      <td>The Pacific</td>\n",
       "      <td>1</td>\n",
       "    </tr>\n",
       "    <tr>\n",
       "      <th>705.0</th>\n",
       "      <td>1</td>\n",
       "      <td>1</td>\n",
       "      <td>Band of Brothers</td>\n",
       "      <td>1</td>\n",
       "    </tr>\n",
       "  </tbody>\n",
       "</table>\n",
       "<p>217 rows × 4 columns</p>\n",
       "</div>"
      ],
      "text/plain": [
       "        count unique                                    top freq\n",
       "runtime                                                         \n",
       "2.0         2      2  The Adventures of AndrÃ© and Wally B.    1\n",
       "3.0         4      4                   Batman: Strange Days    1\n",
       "4.0         9      9               Minions: The Competition    1\n",
       "5.0        11     11                    Riley's First Date?    1\n",
       "6.0        12     12                                  Feast    1\n",
       "...       ...    ...                                    ...  ...\n",
       "421.0       1      1               The Pillars of the Earth    1\n",
       "470.0       1      1                        Generation Kill    1\n",
       "500.0       1      1                                   Life    1\n",
       "540.0       1      1                            The Pacific    1\n",
       "705.0       1      1                       Band of Brothers    1\n",
       "\n",
       "[217 rows x 4 columns]"
      ]
     },
     "execution_count": 716,
     "metadata": {},
     "output_type": "execute_result"
    }
   ],
   "source": [
    "pd.DataFrame(df.groupby('runtime')['original_title'].describe())"
   ]
  },
  {
   "cell_type": "code",
   "execution_count": 717,
   "metadata": {},
   "outputs": [
    {
     "data": {
      "text/html": [
       "<div>\n",
       "<style scoped>\n",
       "    .dataframe tbody tr th:only-of-type {\n",
       "        vertical-align: middle;\n",
       "    }\n",
       "\n",
       "    .dataframe tbody tr th {\n",
       "        vertical-align: top;\n",
       "    }\n",
       "\n",
       "    .dataframe thead th {\n",
       "        text-align: right;\n",
       "    }\n",
       "</style>\n",
       "<table border=\"1\" class=\"dataframe\">\n",
       "  <thead>\n",
       "    <tr style=\"text-align: right;\">\n",
       "      <th></th>\n",
       "      <th>runtime</th>\n",
       "      <th>original_title</th>\n",
       "    </tr>\n",
       "  </thead>\n",
       "  <tbody>\n",
       "    <tr>\n",
       "      <th>0</th>\n",
       "      <td>2.0</td>\n",
       "      <td>2</td>\n",
       "    </tr>\n",
       "    <tr>\n",
       "      <th>1</th>\n",
       "      <td>3.0</td>\n",
       "      <td>4</td>\n",
       "    </tr>\n",
       "    <tr>\n",
       "      <th>2</th>\n",
       "      <td>4.0</td>\n",
       "      <td>9</td>\n",
       "    </tr>\n",
       "    <tr>\n",
       "      <th>3</th>\n",
       "      <td>5.0</td>\n",
       "      <td>11</td>\n",
       "    </tr>\n",
       "    <tr>\n",
       "      <th>4</th>\n",
       "      <td>6.0</td>\n",
       "      <td>12</td>\n",
       "    </tr>\n",
       "    <tr>\n",
       "      <th>...</th>\n",
       "      <td>...</td>\n",
       "      <td>...</td>\n",
       "    </tr>\n",
       "    <tr>\n",
       "      <th>212</th>\n",
       "      <td>421.0</td>\n",
       "      <td>1</td>\n",
       "    </tr>\n",
       "    <tr>\n",
       "      <th>213</th>\n",
       "      <td>470.0</td>\n",
       "      <td>1</td>\n",
       "    </tr>\n",
       "    <tr>\n",
       "      <th>214</th>\n",
       "      <td>500.0</td>\n",
       "      <td>1</td>\n",
       "    </tr>\n",
       "    <tr>\n",
       "      <th>215</th>\n",
       "      <td>540.0</td>\n",
       "      <td>1</td>\n",
       "    </tr>\n",
       "    <tr>\n",
       "      <th>216</th>\n",
       "      <td>705.0</td>\n",
       "      <td>1</td>\n",
       "    </tr>\n",
       "  </tbody>\n",
       "</table>\n",
       "<p>217 rows × 2 columns</p>\n",
       "</div>"
      ],
      "text/plain": [
       "     runtime  original_title\n",
       "0        2.0               2\n",
       "1        3.0               4\n",
       "2        4.0               9\n",
       "3        5.0              11\n",
       "4        6.0              12\n",
       "..       ...             ...\n",
       "212    421.0               1\n",
       "213    470.0               1\n",
       "214    500.0               1\n",
       "215    540.0               1\n",
       "216    705.0               1\n",
       "\n",
       "[217 rows x 2 columns]"
      ]
     },
     "execution_count": 717,
     "metadata": {},
     "output_type": "execute_result"
    }
   ],
   "source": [
    "pd.DataFrame(df.groupby('runtime')['original_title'].count().reset_index())"
   ]
  },
  {
   "cell_type": "markdown",
   "metadata": {},
   "source": [
    "#### **Find the longest movies**"
   ]
  },
  {
   "cell_type": "code",
   "execution_count": 718,
   "metadata": {},
   "outputs": [
    {
     "data": {
      "text/plain": [
       "705.0"
      ]
     },
     "execution_count": 718,
     "metadata": {},
     "output_type": "execute_result"
    }
   ],
   "source": [
    "#check longest runtime among all runtime\n",
    "longest_runtime = df['runtime'].max()\n",
    "longest_runtime"
   ]
  },
  {
   "cell_type": "code",
   "execution_count": 719,
   "metadata": {},
   "outputs": [
    {
     "data": {
      "text/html": [
       "<div>\n",
       "<style scoped>\n",
       "    .dataframe tbody tr th:only-of-type {\n",
       "        vertical-align: middle;\n",
       "    }\n",
       "\n",
       "    .dataframe tbody tr th {\n",
       "        vertical-align: top;\n",
       "    }\n",
       "\n",
       "    .dataframe thead th {\n",
       "        text-align: right;\n",
       "    }\n",
       "</style>\n",
       "<table border=\"1\" class=\"dataframe\">\n",
       "  <thead>\n",
       "    <tr style=\"text-align: right;\">\n",
       "      <th></th>\n",
       "      <th>popularity</th>\n",
       "      <th>budget</th>\n",
       "      <th>revenue</th>\n",
       "      <th>original_title</th>\n",
       "      <th>director</th>\n",
       "      <th>keywords</th>\n",
       "      <th>overview</th>\n",
       "      <th>runtime</th>\n",
       "      <th>genres</th>\n",
       "      <th>production_companies</th>\n",
       "      <th>release_date</th>\n",
       "      <th>vote_count</th>\n",
       "      <th>vote_average</th>\n",
       "      <th>release_year</th>\n",
       "    </tr>\n",
       "  </thead>\n",
       "  <tbody>\n",
       "  </tbody>\n",
       "</table>\n",
       "</div>"
      ],
      "text/plain": [
       "Empty DataFrame\n",
       "Columns: [popularity, budget, revenue, original_title, director, keywords, overview, runtime, genres, production_companies, release_date, vote_count, vote_average, release_year]\n",
       "Index: []"
      ]
     },
     "execution_count": 719,
     "metadata": {},
     "output_type": "execute_result"
    }
   ],
   "source": [
    "#check if there is any runtime that is greater than the max \n",
    "df.query(f'runtime > {longest_runtime}')\n"
   ]
  },
  {
   "cell_type": "code",
   "execution_count": 720,
   "metadata": {},
   "outputs": [
    {
     "data": {
      "text/plain": [
       "2722    Band of Brothers\n",
       "Name: original_title, dtype: object"
      ]
     },
     "execution_count": 720,
     "metadata": {},
     "output_type": "execute_result"
    }
   ],
   "source": [
    "#Get the longest movies with the max number of runtime\n",
    "longest_movies = df.query(f\"runtime =={longest_runtime}\")[\"original_title\"]\n",
    "longest_movies"
   ]
  },
  {
   "cell_type": "markdown",
   "metadata": {},
   "source": [
    "#### Band of Brothers is the longest movies with 705.0 minutes"
   ]
  },
  {
   "cell_type": "markdown",
   "metadata": {},
   "source": [
    "#### **Find the shortest movies**"
   ]
  },
  {
   "cell_type": "code",
   "execution_count": 721,
   "metadata": {},
   "outputs": [
    {
     "data": {
      "text/html": [
       "<div>\n",
       "<style scoped>\n",
       "    .dataframe tbody tr th:only-of-type {\n",
       "        vertical-align: middle;\n",
       "    }\n",
       "\n",
       "    .dataframe tbody tr th {\n",
       "        vertical-align: top;\n",
       "    }\n",
       "\n",
       "    .dataframe thead th {\n",
       "        text-align: right;\n",
       "    }\n",
       "</style>\n",
       "<table border=\"1\" class=\"dataframe\">\n",
       "  <thead>\n",
       "    <tr style=\"text-align: right;\">\n",
       "      <th></th>\n",
       "      <th>runtime</th>\n",
       "    </tr>\n",
       "  </thead>\n",
       "  <tbody>\n",
       "    <tr>\n",
       "      <th>count</th>\n",
       "      <td>8691.000000</td>\n",
       "    </tr>\n",
       "    <tr>\n",
       "      <th>mean</th>\n",
       "      <td>103.751180</td>\n",
       "    </tr>\n",
       "    <tr>\n",
       "      <th>std</th>\n",
       "      <td>26.276793</td>\n",
       "    </tr>\n",
       "    <tr>\n",
       "      <th>min</th>\n",
       "      <td>2.000000</td>\n",
       "    </tr>\n",
       "    <tr>\n",
       "      <th>25%</th>\n",
       "      <td>91.000000</td>\n",
       "    </tr>\n",
       "    <tr>\n",
       "      <th>50%</th>\n",
       "      <td>100.000000</td>\n",
       "    </tr>\n",
       "    <tr>\n",
       "      <th>75%</th>\n",
       "      <td>113.000000</td>\n",
       "    </tr>\n",
       "    <tr>\n",
       "      <th>max</th>\n",
       "      <td>705.000000</td>\n",
       "    </tr>\n",
       "  </tbody>\n",
       "</table>\n",
       "</div>"
      ],
      "text/plain": [
       "           runtime\n",
       "count  8691.000000\n",
       "mean    103.751180\n",
       "std      26.276793\n",
       "min       2.000000\n",
       "25%      91.000000\n",
       "50%     100.000000\n",
       "75%     113.000000\n",
       "max     705.000000"
      ]
     },
     "execution_count": 721,
     "metadata": {},
     "output_type": "execute_result"
    }
   ],
   "source": [
    "pd.DataFrame(df['runtime'].describe())"
   ]
  },
  {
   "cell_type": "code",
   "execution_count": 722,
   "metadata": {},
   "outputs": [
    {
     "data": {
      "text/plain": [
       "2.0"
      ]
     },
     "execution_count": 722,
     "metadata": {},
     "output_type": "execute_result"
    }
   ],
   "source": [
    "#check shortest runtime among all runtime\n",
    "shortest_runtime = df['runtime'].min()\n",
    "shortest_runtime"
   ]
  },
  {
   "cell_type": "code",
   "execution_count": 723,
   "metadata": {},
   "outputs": [
    {
     "data": {
      "text/html": [
       "<div>\n",
       "<style scoped>\n",
       "    .dataframe tbody tr th:only-of-type {\n",
       "        vertical-align: middle;\n",
       "    }\n",
       "\n",
       "    .dataframe tbody tr th {\n",
       "        vertical-align: top;\n",
       "    }\n",
       "\n",
       "    .dataframe thead th {\n",
       "        text-align: right;\n",
       "    }\n",
       "</style>\n",
       "<table border=\"1\" class=\"dataframe\">\n",
       "  <thead>\n",
       "    <tr style=\"text-align: right;\">\n",
       "      <th></th>\n",
       "      <th>original_title</th>\n",
       "    </tr>\n",
       "  </thead>\n",
       "  <tbody>\n",
       "    <tr>\n",
       "      <th>count</th>\n",
       "      <td>2</td>\n",
       "    </tr>\n",
       "    <tr>\n",
       "      <th>unique</th>\n",
       "      <td>2</td>\n",
       "    </tr>\n",
       "    <tr>\n",
       "      <th>top</th>\n",
       "      <td>The Adventures of AndrÃ© and Wally B.</td>\n",
       "    </tr>\n",
       "    <tr>\n",
       "      <th>freq</th>\n",
       "      <td>1</td>\n",
       "    </tr>\n",
       "  </tbody>\n",
       "</table>\n",
       "</div>"
      ],
      "text/plain": [
       "                               original_title\n",
       "count                                       2\n",
       "unique                                      2\n",
       "top     The Adventures of AndrÃ© and Wally B.\n",
       "freq                                        1"
      ]
     },
     "execution_count": 723,
     "metadata": {},
     "output_type": "execute_result"
    }
   ],
   "source": [
    "#Get the shortest movies with the max number of runtime\n",
    "shortest_movie = df.query(f\"runtime =={shortest_runtime}\")[\"original_title\"]\n",
    "pd.DataFrame(shortest_movie.describe())"
   ]
  },
  {
   "cell_type": "code",
   "execution_count": 724,
   "metadata": {},
   "outputs": [
    {
     "data": {
      "text/html": [
       "<div>\n",
       "<style scoped>\n",
       "    .dataframe tbody tr th:only-of-type {\n",
       "        vertical-align: middle;\n",
       "    }\n",
       "\n",
       "    .dataframe tbody tr th {\n",
       "        vertical-align: top;\n",
       "    }\n",
       "\n",
       "    .dataframe thead th {\n",
       "        text-align: right;\n",
       "    }\n",
       "</style>\n",
       "<table border=\"1\" class=\"dataframe\">\n",
       "  <thead>\n",
       "    <tr style=\"text-align: right;\">\n",
       "      <th></th>\n",
       "      <th>index</th>\n",
       "      <th>original_title</th>\n",
       "    </tr>\n",
       "  </thead>\n",
       "  <tbody>\n",
       "    <tr>\n",
       "      <th>0</th>\n",
       "      <td>7905</td>\n",
       "      <td>The Adventures of AndrÃ© and Wally B.</td>\n",
       "    </tr>\n",
       "    <tr>\n",
       "      <th>1</th>\n",
       "      <td>10550</td>\n",
       "      <td>Luxo Jr.</td>\n",
       "    </tr>\n",
       "  </tbody>\n",
       "</table>\n",
       "</div>"
      ],
      "text/plain": [
       "   index                         original_title\n",
       "0   7905  The Adventures of AndrÃ© and Wally B.\n",
       "1  10550                               Luxo Jr."
      ]
     },
     "execution_count": 724,
     "metadata": {},
     "output_type": "execute_result"
    }
   ],
   "source": [
    "#print number of shortest movie\n",
    "shortest_movie.reset_index()"
   ]
  },
  {
   "cell_type": "markdown",
   "metadata": {},
   "source": [
    "#### The shortest movies with 2 minute duration in this dataset are :\n",
    "#### <ul> \n",
    "**<li>The Adventures of AndrÃ© and Wally B. </li>**\n",
    "**<li>Luxo Jr. </li>**\n",
    " \n",
    "</ul>\n",
    "\n"
   ]
  },
  {
   "cell_type": "markdown",
   "metadata": {},
   "source": [
    "##### **Visualizing the shortest and the longest movies**"
   ]
  },
  {
   "cell_type": "code",
   "execution_count": 725,
   "metadata": {},
   "outputs": [
    {
     "data": {
      "image/png": "[encoded data removed]",
      "text/plain": [
       "<Figure size 864x576 with 1 Axes>"
      ]
     },
     "metadata": {
      "needs_background": "light"
     },
     "output_type": "display_data"
    }
   ],
   "source": [
    "runtime = [longest_runtime,shortest_runtime]\n",
    "locations = [1,2]\n",
    "plt.figure(figsize=(12,8))\n",
    "plt.bar(locations,runtime,color='red',alpha=0.7)\n",
    "plt.title('Longest and shortest movies',fontsize=18);\n",
    "plt.xlabel(\"movies\",fontsize=18)\n",
    "plt.ylabel('runtime',fontsize=18)\n",
    "plt.xticks([1,2], [\"Band of Brothers\", \"The Adventures of AndrÃ© and Wally B., Luxo Jr\"]);"
   ]
  },
  {
   "cell_type": "markdown",
   "metadata": {},
   "source": [
    "### **Q7 what are the most watch movies base on the runtime?is it the movies with the highest runtime or lowest?**"
   ]
  },
  {
   "cell_type": "code",
   "execution_count": 726,
   "metadata": {},
   "outputs": [
    {
     "data": {
      "text/html": [
       "<div>\n",
       "<style scoped>\n",
       "    .dataframe tbody tr th:only-of-type {\n",
       "        vertical-align: middle;\n",
       "    }\n",
       "\n",
       "    .dataframe tbody tr th {\n",
       "        vertical-align: top;\n",
       "    }\n",
       "\n",
       "    .dataframe thead th {\n",
       "        text-align: right;\n",
       "    }\n",
       "</style>\n",
       "<table border=\"1\" class=\"dataframe\">\n",
       "  <thead>\n",
       "    <tr style=\"text-align: right;\">\n",
       "      <th></th>\n",
       "      <th>runtime</th>\n",
       "      <th>count</th>\n",
       "      <th>mean</th>\n",
       "      <th>std</th>\n",
       "      <th>min</th>\n",
       "      <th>25%</th>\n",
       "      <th>50%</th>\n",
       "      <th>75%</th>\n",
       "      <th>max</th>\n",
       "    </tr>\n",
       "  </thead>\n",
       "  <tbody>\n",
       "    <tr>\n",
       "      <th>0</th>\n",
       "      <td>2.0</td>\n",
       "      <td>2.0</td>\n",
       "      <td>0.476843</td>\n",
       "      <td>0.241007</td>\n",
       "      <td>0.306425</td>\n",
       "      <td>0.391634</td>\n",
       "      <td>0.476843</td>\n",
       "      <td>0.562052</td>\n",
       "      <td>0.647261</td>\n",
       "    </tr>\n",
       "    <tr>\n",
       "      <th>1</th>\n",
       "      <td>3.0</td>\n",
       "      <td>4.0</td>\n",
       "      <td>0.355162</td>\n",
       "      <td>0.306773</td>\n",
       "      <td>0.152615</td>\n",
       "      <td>0.190236</td>\n",
       "      <td>0.228467</td>\n",
       "      <td>0.393393</td>\n",
       "      <td>0.811101</td>\n",
       "    </tr>\n",
       "    <tr>\n",
       "      <th>2</th>\n",
       "      <td>4.0</td>\n",
       "      <td>9.0</td>\n",
       "      <td>0.539356</td>\n",
       "      <td>0.287112</td>\n",
       "      <td>0.146906</td>\n",
       "      <td>0.378240</td>\n",
       "      <td>0.471351</td>\n",
       "      <td>0.653289</td>\n",
       "      <td>1.125434</td>\n",
       "    </tr>\n",
       "    <tr>\n",
       "      <th>3</th>\n",
       "      <td>5.0</td>\n",
       "      <td>11.0</td>\n",
       "      <td>0.464233</td>\n",
       "      <td>0.258126</td>\n",
       "      <td>0.150035</td>\n",
       "      <td>0.343934</td>\n",
       "      <td>0.369792</td>\n",
       "      <td>0.614875</td>\n",
       "      <td>0.905428</td>\n",
       "    </tr>\n",
       "    <tr>\n",
       "      <th>4</th>\n",
       "      <td>6.0</td>\n",
       "      <td>12.0</td>\n",
       "      <td>0.309794</td>\n",
       "      <td>0.208602</td>\n",
       "      <td>0.017400</td>\n",
       "      <td>0.163148</td>\n",
       "      <td>0.293305</td>\n",
       "      <td>0.417014</td>\n",
       "      <td>0.705700</td>\n",
       "    </tr>\n",
       "    <tr>\n",
       "      <th>...</th>\n",
       "      <td>...</td>\n",
       "      <td>...</td>\n",
       "      <td>...</td>\n",
       "      <td>...</td>\n",
       "      <td>...</td>\n",
       "      <td>...</td>\n",
       "      <td>...</td>\n",
       "      <td>...</td>\n",
       "      <td>...</td>\n",
       "    </tr>\n",
       "    <tr>\n",
       "      <th>212</th>\n",
       "      <td>421.0</td>\n",
       "      <td>1.0</td>\n",
       "      <td>0.082894</td>\n",
       "      <td>NaN</td>\n",
       "      <td>0.082894</td>\n",
       "      <td>0.082894</td>\n",
       "      <td>0.082894</td>\n",
       "      <td>0.082894</td>\n",
       "      <td>0.082894</td>\n",
       "    </tr>\n",
       "    <tr>\n",
       "      <th>213</th>\n",
       "      <td>470.0</td>\n",
       "      <td>1.0</td>\n",
       "      <td>0.336308</td>\n",
       "      <td>NaN</td>\n",
       "      <td>0.336308</td>\n",
       "      <td>0.336308</td>\n",
       "      <td>0.336308</td>\n",
       "      <td>0.336308</td>\n",
       "      <td>0.336308</td>\n",
       "    </tr>\n",
       "    <tr>\n",
       "      <th>214</th>\n",
       "      <td>500.0</td>\n",
       "      <td>1.0</td>\n",
       "      <td>0.102223</td>\n",
       "      <td>NaN</td>\n",
       "      <td>0.102223</td>\n",
       "      <td>0.102223</td>\n",
       "      <td>0.102223</td>\n",
       "      <td>0.102223</td>\n",
       "      <td>0.102223</td>\n",
       "    </tr>\n",
       "    <tr>\n",
       "      <th>215</th>\n",
       "      <td>540.0</td>\n",
       "      <td>1.0</td>\n",
       "      <td>0.757082</td>\n",
       "      <td>NaN</td>\n",
       "      <td>0.757082</td>\n",
       "      <td>0.757082</td>\n",
       "      <td>0.757082</td>\n",
       "      <td>0.757082</td>\n",
       "      <td>0.757082</td>\n",
       "    </tr>\n",
       "    <tr>\n",
       "      <th>216</th>\n",
       "      <td>705.0</td>\n",
       "      <td>1.0</td>\n",
       "      <td>0.537593</td>\n",
       "      <td>NaN</td>\n",
       "      <td>0.537593</td>\n",
       "      <td>0.537593</td>\n",
       "      <td>0.537593</td>\n",
       "      <td>0.537593</td>\n",
       "      <td>0.537593</td>\n",
       "    </tr>\n",
       "  </tbody>\n",
       "</table>\n",
       "<p>217 rows × 9 columns</p>\n",
       "</div>"
      ],
      "text/plain": [
       "     runtime  count      mean       std       min       25%       50%  \\\n",
       "0        2.0    2.0  0.476843  0.241007  0.306425  0.391634  0.476843   \n",
       "1        3.0    4.0  0.355162  0.306773  0.152615  0.190236  0.228467   \n",
       "2        4.0    9.0  0.539356  0.287112  0.146906  0.378240  0.471351   \n",
       "3        5.0   11.0  0.464233  0.258126  0.150035  0.343934  0.369792   \n",
       "4        6.0   12.0  0.309794  0.208602  0.017400  0.163148  0.293305   \n",
       "..       ...    ...       ...       ...       ...       ...       ...   \n",
       "212    421.0    1.0  0.082894       NaN  0.082894  0.082894  0.082894   \n",
       "213    470.0    1.0  0.336308       NaN  0.336308  0.336308  0.336308   \n",
       "214    500.0    1.0  0.102223       NaN  0.102223  0.102223  0.102223   \n",
       "215    540.0    1.0  0.757082       NaN  0.757082  0.757082  0.757082   \n",
       "216    705.0    1.0  0.537593       NaN  0.537593  0.537593  0.537593   \n",
       "\n",
       "          75%       max  \n",
       "0    0.562052  0.647261  \n",
       "1    0.393393  0.811101  \n",
       "2    0.653289  1.125434  \n",
       "3    0.614875  0.905428  \n",
       "4    0.417014  0.705700  \n",
       "..        ...       ...  \n",
       "212  0.082894  0.082894  \n",
       "213  0.336308  0.336308  \n",
       "214  0.102223  0.102223  \n",
       "215  0.757082  0.757082  \n",
       "216  0.537593  0.537593  \n",
       "\n",
       "[217 rows x 9 columns]"
      ]
     },
     "execution_count": 726,
     "metadata": {},
     "output_type": "execute_result"
    }
   ],
   "source": [
    "#statistics analysis of the data\n",
    "pd.DataFrame(df.groupby('runtime')['popularity'].describe().reset_index())"
   ]
  },
  {
   "cell_type": "code",
   "execution_count": 727,
   "metadata": {},
   "outputs": [],
   "source": [
    "#find the median of the runtime to get the low and the high runtime\n",
    "runtime_median = df['runtime'].median()\n",
    "low_runtime = df.query('runtime <=100')\n",
    "high_runtime = df.query('runtime >100')\n"
   ]
  },
  {
   "cell_type": "code",
   "execution_count": 728,
   "metadata": {},
   "outputs": [],
   "source": [
    "#find the mean of each runtime base on popularity\n",
    "mean_popularity_low = low_runtime['popularity'].mean()\n",
    "mean_popularity_high = high_runtime['popularity'].mean()"
   ]
  },
  {
   "cell_type": "markdown",
   "metadata": {},
   "source": [
    "##### **Visualize the most watch movies**"
   ]
  },
  {
   "cell_type": "code",
   "execution_count": 729,
   "metadata": {},
   "outputs": [
    {
     "data": {
      "image/png": "[encoded data removed]",
      "text/plain": [
       "<Figure size 864x576 with 1 Axes>"
      ]
     },
     "metadata": {
      "needs_background": "light"
     },
     "output_type": "display_data"
    }
   ],
   "source": [
    "# Create a bar chart with proper labels\n",
    "locations = [1, 2]\n",
    "heights = [mean_popularity_low, mean_popularity_high]\n",
    "labels = ['Low', 'High']\n",
    "plt.figure(figsize=(12,8))\n",
    "plt.bar(locations, heights, tick_label=labels,color='red',alpha=0.7)\n",
    "plt.title('Average of most watch movies base on popularity and runtime',fontsize=18)\n",
    "plt.xlabel('Runtime',fontsize=18)\n",
    "plt.ylabel('Average Most watch Movie',fontsize=18);"
   ]
  },
  {
   "cell_type": "markdown",
   "metadata": {},
   "source": [
    "##### From the graph above it clear that video with highest runtime has more popularity , which mean they are the most watched movies"
   ]
  },
  {
   "cell_type": "markdown",
   "metadata": {},
   "source": [
    "### **Q8 Which director has the highest number of votes?**"
   ]
  },
  {
   "cell_type": "code",
   "execution_count": 730,
   "metadata": {},
   "outputs": [
    {
     "data": {
      "text/html": [
       "<div>\n",
       "<style scoped>\n",
       "    .dataframe tbody tr th:only-of-type {\n",
       "        vertical-align: middle;\n",
       "    }\n",
       "\n",
       "    .dataframe tbody tr th {\n",
       "        vertical-align: top;\n",
       "    }\n",
       "\n",
       "    .dataframe thead th {\n",
       "        text-align: right;\n",
       "    }\n",
       "</style>\n",
       "<table border=\"1\" class=\"dataframe\">\n",
       "  <thead>\n",
       "    <tr style=\"text-align: right;\">\n",
       "      <th></th>\n",
       "      <th>vote_count</th>\n",
       "    </tr>\n",
       "  </thead>\n",
       "  <tbody>\n",
       "    <tr>\n",
       "      <th>count</th>\n",
       "      <td>4.000000</td>\n",
       "    </tr>\n",
       "    <tr>\n",
       "      <th>mean</th>\n",
       "      <td>34531.500000</td>\n",
       "    </tr>\n",
       "    <tr>\n",
       "      <th>std</th>\n",
       "      <td>6002.791156</td>\n",
       "    </tr>\n",
       "    <tr>\n",
       "      <th>min</th>\n",
       "      <td>27883.000000</td>\n",
       "    </tr>\n",
       "    <tr>\n",
       "      <th>25%</th>\n",
       "      <td>30817.750000</td>\n",
       "    </tr>\n",
       "    <tr>\n",
       "      <th>50%</th>\n",
       "      <td>34265.500000</td>\n",
       "    </tr>\n",
       "    <tr>\n",
       "      <th>75%</th>\n",
       "      <td>37979.250000</td>\n",
       "    </tr>\n",
       "    <tr>\n",
       "      <th>max</th>\n",
       "      <td>41712.000000</td>\n",
       "    </tr>\n",
       "  </tbody>\n",
       "</table>\n",
       "</div>"
      ],
      "text/plain": [
       "         vote_count\n",
       "count      4.000000\n",
       "mean   34531.500000\n",
       "std     6002.791156\n",
       "min    27883.000000\n",
       "25%    30817.750000\n",
       "50%    34265.500000\n",
       "75%    37979.250000\n",
       "max    41712.000000"
      ]
     },
     "execution_count": 730,
     "metadata": {},
     "output_type": "execute_result"
    }
   ],
   "source": [
    "# suffle the dataframe by director\n",
    "director = df.groupby('director')\n",
    "\n",
    "#get the sum of total number of vote for each director\n",
    "director_votes = director['vote_count'].sum().nlargest(4) \n",
    "pd.DataFrame(director_votes.describe())"
   ]
  },
  {
   "cell_type": "code",
   "execution_count": 731,
   "metadata": {},
   "outputs": [
    {
     "data": {
      "text/html": [
       "<div>\n",
       "<style scoped>\n",
       "    .dataframe tbody tr th:only-of-type {\n",
       "        vertical-align: middle;\n",
       "    }\n",
       "\n",
       "    .dataframe tbody tr th {\n",
       "        vertical-align: top;\n",
       "    }\n",
       "\n",
       "    .dataframe thead tr th {\n",
       "        text-align: left;\n",
       "    }\n",
       "\n",
       "    .dataframe thead tr:last-of-type th {\n",
       "        text-align: right;\n",
       "    }\n",
       "</style>\n",
       "<table border=\"1\" class=\"dataframe\">\n",
       "  <thead>\n",
       "    <tr>\n",
       "      <th></th>\n",
       "      <th colspan=\"8\" halign=\"left\">popularity</th>\n",
       "      <th colspan=\"2\" halign=\"left\">budget</th>\n",
       "      <th>...</th>\n",
       "      <th colspan=\"2\" halign=\"left\">vote_average</th>\n",
       "      <th colspan=\"8\" halign=\"left\">release_year</th>\n",
       "    </tr>\n",
       "    <tr>\n",
       "      <th></th>\n",
       "      <th>count</th>\n",
       "      <th>mean</th>\n",
       "      <th>std</th>\n",
       "      <th>min</th>\n",
       "      <th>25%</th>\n",
       "      <th>50%</th>\n",
       "      <th>75%</th>\n",
       "      <th>max</th>\n",
       "      <th>count</th>\n",
       "      <th>mean</th>\n",
       "      <th>...</th>\n",
       "      <th>75%</th>\n",
       "      <th>max</th>\n",
       "      <th>count</th>\n",
       "      <th>mean</th>\n",
       "      <th>std</th>\n",
       "      <th>min</th>\n",
       "      <th>25%</th>\n",
       "      <th>50%</th>\n",
       "      <th>75%</th>\n",
       "      <th>max</th>\n",
       "    </tr>\n",
       "    <tr>\n",
       "      <th>director</th>\n",
       "      <th></th>\n",
       "      <th></th>\n",
       "      <th></th>\n",
       "      <th></th>\n",
       "      <th></th>\n",
       "      <th></th>\n",
       "      <th></th>\n",
       "      <th></th>\n",
       "      <th></th>\n",
       "      <th></th>\n",
       "      <th></th>\n",
       "      <th></th>\n",
       "      <th></th>\n",
       "      <th></th>\n",
       "      <th></th>\n",
       "      <th></th>\n",
       "      <th></th>\n",
       "      <th></th>\n",
       "      <th></th>\n",
       "      <th></th>\n",
       "      <th></th>\n",
       "    </tr>\n",
       "  </thead>\n",
       "  <tbody>\n",
       "    <tr>\n",
       "      <th>A. Todd Smith</th>\n",
       "      <td>1.0</td>\n",
       "      <td>1.876037</td>\n",
       "      <td>NaN</td>\n",
       "      <td>1.876037</td>\n",
       "      <td>1.876037</td>\n",
       "      <td>1.876037</td>\n",
       "      <td>1.876037</td>\n",
       "      <td>1.876037</td>\n",
       "      <td>1.0</td>\n",
       "      <td>1.462429e+07</td>\n",
       "      <td>...</td>\n",
       "      <td>5.40</td>\n",
       "      <td>5.4</td>\n",
       "      <td>1.0</td>\n",
       "      <td>2015.000000</td>\n",
       "      <td>NaN</td>\n",
       "      <td>2015.0</td>\n",
       "      <td>2015.00</td>\n",
       "      <td>2015.0</td>\n",
       "      <td>2015.00</td>\n",
       "      <td>2015.0</td>\n",
       "    </tr>\n",
       "    <tr>\n",
       "      <th>Aaron Blaise|Robert Walker</th>\n",
       "      <td>1.0</td>\n",
       "      <td>1.653031</td>\n",
       "      <td>NaN</td>\n",
       "      <td>1.653031</td>\n",
       "      <td>1.653031</td>\n",
       "      <td>1.653031</td>\n",
       "      <td>1.653031</td>\n",
       "      <td>1.653031</td>\n",
       "      <td>1.0</td>\n",
       "      <td>1.000000e+08</td>\n",
       "      <td>...</td>\n",
       "      <td>6.80</td>\n",
       "      <td>6.8</td>\n",
       "      <td>1.0</td>\n",
       "      <td>2003.000000</td>\n",
       "      <td>NaN</td>\n",
       "      <td>2003.0</td>\n",
       "      <td>2003.00</td>\n",
       "      <td>2003.0</td>\n",
       "      <td>2003.00</td>\n",
       "      <td>2003.0</td>\n",
       "    </tr>\n",
       "    <tr>\n",
       "      <th>Aaron Hann|Mario Miscione</th>\n",
       "      <td>1.0</td>\n",
       "      <td>0.350599</td>\n",
       "      <td>NaN</td>\n",
       "      <td>0.350599</td>\n",
       "      <td>0.350599</td>\n",
       "      <td>0.350599</td>\n",
       "      <td>0.350599</td>\n",
       "      <td>0.350599</td>\n",
       "      <td>1.0</td>\n",
       "      <td>1.462429e+07</td>\n",
       "      <td>...</td>\n",
       "      <td>6.10</td>\n",
       "      <td>6.1</td>\n",
       "      <td>1.0</td>\n",
       "      <td>2015.000000</td>\n",
       "      <td>NaN</td>\n",
       "      <td>2015.0</td>\n",
       "      <td>2015.00</td>\n",
       "      <td>2015.0</td>\n",
       "      <td>2015.00</td>\n",
       "      <td>2015.0</td>\n",
       "    </tr>\n",
       "    <tr>\n",
       "      <th>Aaron Harvey</th>\n",
       "      <td>1.0</td>\n",
       "      <td>1.212003</td>\n",
       "      <td>NaN</td>\n",
       "      <td>1.212003</td>\n",
       "      <td>1.212003</td>\n",
       "      <td>1.212003</td>\n",
       "      <td>1.212003</td>\n",
       "      <td>1.212003</td>\n",
       "      <td>1.0</td>\n",
       "      <td>7.000000e+06</td>\n",
       "      <td>...</td>\n",
       "      <td>4.90</td>\n",
       "      <td>4.9</td>\n",
       "      <td>1.0</td>\n",
       "      <td>2011.000000</td>\n",
       "      <td>NaN</td>\n",
       "      <td>2011.0</td>\n",
       "      <td>2011.00</td>\n",
       "      <td>2011.0</td>\n",
       "      <td>2011.00</td>\n",
       "      <td>2011.0</td>\n",
       "    </tr>\n",
       "    <tr>\n",
       "      <th>Aaron Katz|Martha Stephens</th>\n",
       "      <td>1.0</td>\n",
       "      <td>0.267446</td>\n",
       "      <td>NaN</td>\n",
       "      <td>0.267446</td>\n",
       "      <td>0.267446</td>\n",
       "      <td>0.267446</td>\n",
       "      <td>0.267446</td>\n",
       "      <td>0.267446</td>\n",
       "      <td>1.0</td>\n",
       "      <td>1.462429e+07</td>\n",
       "      <td>...</td>\n",
       "      <td>5.80</td>\n",
       "      <td>5.8</td>\n",
       "      <td>1.0</td>\n",
       "      <td>2014.000000</td>\n",
       "      <td>NaN</td>\n",
       "      <td>2014.0</td>\n",
       "      <td>2014.00</td>\n",
       "      <td>2014.0</td>\n",
       "      <td>2014.00</td>\n",
       "      <td>2014.0</td>\n",
       "    </tr>\n",
       "    <tr>\n",
       "      <th>...</th>\n",
       "      <td>...</td>\n",
       "      <td>...</td>\n",
       "      <td>...</td>\n",
       "      <td>...</td>\n",
       "      <td>...</td>\n",
       "      <td>...</td>\n",
       "      <td>...</td>\n",
       "      <td>...</td>\n",
       "      <td>...</td>\n",
       "      <td>...</td>\n",
       "      <td>...</td>\n",
       "      <td>...</td>\n",
       "      <td>...</td>\n",
       "      <td>...</td>\n",
       "      <td>...</td>\n",
       "      <td>...</td>\n",
       "      <td>...</td>\n",
       "      <td>...</td>\n",
       "      <td>...</td>\n",
       "      <td>...</td>\n",
       "      <td>...</td>\n",
       "    </tr>\n",
       "    <tr>\n",
       "      <th>Ãlex de la Iglesia</th>\n",
       "      <td>2.0</td>\n",
       "      <td>0.240290</td>\n",
       "      <td>0.219553</td>\n",
       "      <td>0.085043</td>\n",
       "      <td>0.162667</td>\n",
       "      <td>0.240290</td>\n",
       "      <td>0.317914</td>\n",
       "      <td>0.395538</td>\n",
       "      <td>2.0</td>\n",
       "      <td>1.436214e+07</td>\n",
       "      <td>...</td>\n",
       "      <td>5.75</td>\n",
       "      <td>5.8</td>\n",
       "      <td>2.0</td>\n",
       "      <td>2000.500000</td>\n",
       "      <td>10.606602</td>\n",
       "      <td>1993.0</td>\n",
       "      <td>1996.75</td>\n",
       "      <td>2000.5</td>\n",
       "      <td>2004.25</td>\n",
       "      <td>2008.0</td>\n",
       "    </tr>\n",
       "    <tr>\n",
       "      <th>Ã–zgÃ¼r Yildirim</th>\n",
       "      <td>1.0</td>\n",
       "      <td>0.064319</td>\n",
       "      <td>NaN</td>\n",
       "      <td>0.064319</td>\n",
       "      <td>0.064319</td>\n",
       "      <td>0.064319</td>\n",
       "      <td>0.064319</td>\n",
       "      <td>0.064319</td>\n",
       "      <td>1.0</td>\n",
       "      <td>1.462429e+07</td>\n",
       "      <td>...</td>\n",
       "      <td>6.30</td>\n",
       "      <td>6.3</td>\n",
       "      <td>1.0</td>\n",
       "      <td>2008.000000</td>\n",
       "      <td>NaN</td>\n",
       "      <td>2008.0</td>\n",
       "      <td>2008.00</td>\n",
       "      <td>2008.0</td>\n",
       "      <td>2008.00</td>\n",
       "      <td>2008.0</td>\n",
       "    </tr>\n",
       "    <tr>\n",
       "      <th>Ã‰mile Gaudreault</th>\n",
       "      <td>1.0</td>\n",
       "      <td>0.276911</td>\n",
       "      <td>NaN</td>\n",
       "      <td>0.276911</td>\n",
       "      <td>0.276911</td>\n",
       "      <td>0.276911</td>\n",
       "      <td>0.276911</td>\n",
       "      <td>0.276911</td>\n",
       "      <td>1.0</td>\n",
       "      <td>4.361898e+06</td>\n",
       "      <td>...</td>\n",
       "      <td>5.20</td>\n",
       "      <td>5.2</td>\n",
       "      <td>1.0</td>\n",
       "      <td>2003.000000</td>\n",
       "      <td>NaN</td>\n",
       "      <td>2003.0</td>\n",
       "      <td>2003.00</td>\n",
       "      <td>2003.0</td>\n",
       "      <td>2003.00</td>\n",
       "      <td>2003.0</td>\n",
       "    </tr>\n",
       "    <tr>\n",
       "      <th>Ã‰tienne Chatiliez</th>\n",
       "      <td>3.0</td>\n",
       "      <td>0.102346</td>\n",
       "      <td>0.080174</td>\n",
       "      <td>0.047949</td>\n",
       "      <td>0.056310</td>\n",
       "      <td>0.064672</td>\n",
       "      <td>0.129545</td>\n",
       "      <td>0.194418</td>\n",
       "      <td>3.0</td>\n",
       "      <td>1.420452e+07</td>\n",
       "      <td>...</td>\n",
       "      <td>7.20</td>\n",
       "      <td>7.2</td>\n",
       "      <td>3.0</td>\n",
       "      <td>1994.666667</td>\n",
       "      <td>6.506407</td>\n",
       "      <td>1988.0</td>\n",
       "      <td>1991.50</td>\n",
       "      <td>1995.0</td>\n",
       "      <td>1998.00</td>\n",
       "      <td>2001.0</td>\n",
       "    </tr>\n",
       "    <tr>\n",
       "      <th>Ã€lex Pastor|David Pastor</th>\n",
       "      <td>1.0</td>\n",
       "      <td>0.619369</td>\n",
       "      <td>NaN</td>\n",
       "      <td>0.619369</td>\n",
       "      <td>0.619369</td>\n",
       "      <td>0.619369</td>\n",
       "      <td>0.619369</td>\n",
       "      <td>0.619369</td>\n",
       "      <td>1.0</td>\n",
       "      <td>1.462429e+07</td>\n",
       "      <td>...</td>\n",
       "      <td>5.70</td>\n",
       "      <td>5.7</td>\n",
       "      <td>1.0</td>\n",
       "      <td>2009.000000</td>\n",
       "      <td>NaN</td>\n",
       "      <td>2009.0</td>\n",
       "      <td>2009.00</td>\n",
       "      <td>2009.0</td>\n",
       "      <td>2009.00</td>\n",
       "      <td>2009.0</td>\n",
       "    </tr>\n",
       "  </tbody>\n",
       "</table>\n",
       "<p>3962 rows × 56 columns</p>\n",
       "</div>"
      ],
      "text/plain": [
       "                           popularity                                          \\\n",
       "                                count      mean       std       min       25%   \n",
       "director                                                                        \n",
       "A. Todd Smith                     1.0  1.876037       NaN  1.876037  1.876037   \n",
       "Aaron Blaise|Robert Walker        1.0  1.653031       NaN  1.653031  1.653031   \n",
       "Aaron Hann|Mario Miscione         1.0  0.350599       NaN  0.350599  0.350599   \n",
       "Aaron Harvey                      1.0  1.212003       NaN  1.212003  1.212003   \n",
       "Aaron Katz|Martha Stephens        1.0  0.267446       NaN  0.267446  0.267446   \n",
       "...                               ...       ...       ...       ...       ...   \n",
       "Ãlex de la Iglesia                2.0  0.240290  0.219553  0.085043  0.162667   \n",
       "Ã–zgÃ¼r Yildirim                  1.0  0.064319       NaN  0.064319  0.064319   \n",
       "Ã‰mile Gaudreault                 1.0  0.276911       NaN  0.276911  0.276911   \n",
       "Ã‰tienne Chatiliez                3.0  0.102346  0.080174  0.047949  0.056310   \n",
       "Ã€lex Pastor|David Pastor         1.0  0.619369       NaN  0.619369  0.619369   \n",
       "\n",
       "                                                         budget                \\\n",
       "                                 50%       75%       max  count          mean   \n",
       "director                                                                        \n",
       "A. Todd Smith               1.876037  1.876037  1.876037    1.0  1.462429e+07   \n",
       "Aaron Blaise|Robert Walker  1.653031  1.653031  1.653031    1.0  1.000000e+08   \n",
       "Aaron Hann|Mario Miscione   0.350599  0.350599  0.350599    1.0  1.462429e+07   \n",
       "Aaron Harvey                1.212003  1.212003  1.212003    1.0  7.000000e+06   \n",
       "Aaron Katz|Martha Stephens  0.267446  0.267446  0.267446    1.0  1.462429e+07   \n",
       "...                              ...       ...       ...    ...           ...   \n",
       "Ãlex de la Iglesia          0.240290  0.317914  0.395538    2.0  1.436214e+07   \n",
       "Ã–zgÃ¼r Yildirim            0.064319  0.064319  0.064319    1.0  1.462429e+07   \n",
       "Ã‰mile Gaudreault           0.276911  0.276911  0.276911    1.0  4.361898e+06   \n",
       "Ã‰tienne Chatiliez          0.064672  0.129545  0.194418    3.0  1.420452e+07   \n",
       "Ã€lex Pastor|David Pastor   0.619369  0.619369  0.619369    1.0  1.462429e+07   \n",
       "\n",
       "                            ... vote_average      release_year               \\\n",
       "                            ...          75%  max        count         mean   \n",
       "director                    ...                                               \n",
       "A. Todd Smith               ...         5.40  5.4          1.0  2015.000000   \n",
       "Aaron Blaise|Robert Walker  ...         6.80  6.8          1.0  2003.000000   \n",
       "Aaron Hann|Mario Miscione   ...         6.10  6.1          1.0  2015.000000   \n",
       "Aaron Harvey                ...         4.90  4.9          1.0  2011.000000   \n",
       "Aaron Katz|Martha Stephens  ...         5.80  5.8          1.0  2014.000000   \n",
       "...                         ...          ...  ...          ...          ...   \n",
       "Ãlex de la Iglesia          ...         5.75  5.8          2.0  2000.500000   \n",
       "Ã–zgÃ¼r Yildirim            ...         6.30  6.3          1.0  2008.000000   \n",
       "Ã‰mile Gaudreault           ...         5.20  5.2          1.0  2003.000000   \n",
       "Ã‰tienne Chatiliez          ...         7.20  7.2          3.0  1994.666667   \n",
       "Ã€lex Pastor|David Pastor   ...         5.70  5.7          1.0  2009.000000   \n",
       "\n",
       "                                                                         \\\n",
       "                                  std     min      25%     50%      75%   \n",
       "director                                                                  \n",
       "A. Todd Smith                     NaN  2015.0  2015.00  2015.0  2015.00   \n",
       "Aaron Blaise|Robert Walker        NaN  2003.0  2003.00  2003.0  2003.00   \n",
       "Aaron Hann|Mario Miscione         NaN  2015.0  2015.00  2015.0  2015.00   \n",
       "Aaron Harvey                      NaN  2011.0  2011.00  2011.0  2011.00   \n",
       "Aaron Katz|Martha Stephens        NaN  2014.0  2014.00  2014.0  2014.00   \n",
       "...                               ...     ...      ...     ...      ...   \n",
       "Ãlex de la Iglesia          10.606602  1993.0  1996.75  2000.5  2004.25   \n",
       "Ã–zgÃ¼r Yildirim                  NaN  2008.0  2008.00  2008.0  2008.00   \n",
       "Ã‰mile Gaudreault                 NaN  2003.0  2003.00  2003.0  2003.00   \n",
       "Ã‰tienne Chatiliez           6.506407  1988.0  1991.50  1995.0  1998.00   \n",
       "Ã€lex Pastor|David Pastor         NaN  2009.0  2009.00  2009.0  2009.00   \n",
       "\n",
       "                                    \n",
       "                               max  \n",
       "director                            \n",
       "A. Todd Smith               2015.0  \n",
       "Aaron Blaise|Robert Walker  2003.0  \n",
       "Aaron Hann|Mario Miscione   2015.0  \n",
       "Aaron Harvey                2011.0  \n",
       "Aaron Katz|Martha Stephens  2014.0  \n",
       "...                            ...  \n",
       "Ãlex de la Iglesia          2008.0  \n",
       "Ã–zgÃ¼r Yildirim            2008.0  \n",
       "Ã‰mile Gaudreault           2003.0  \n",
       "Ã‰tienne Chatiliez          2001.0  \n",
       "Ã€lex Pastor|David Pastor   2009.0  \n",
       "\n",
       "[3962 rows x 56 columns]"
      ]
     },
     "execution_count": 731,
     "metadata": {},
     "output_type": "execute_result"
    }
   ],
   "source": [
    "pd.DataFrame(director.describe())"
   ]
  },
  {
   "cell_type": "markdown",
   "metadata": {},
   "source": [
    "##### *Visualize the director with the highest number of votes*"
   ]
  },
  {
   "cell_type": "code",
   "execution_count": 732,
   "metadata": {},
   "outputs": [
    {
     "data": {
      "image/png": "[encoded data removed]",
      "text/plain": [
       "<Figure size 432x288 with 1 Axes>"
      ]
     },
     "metadata": {},
     "output_type": "display_data"
    }
   ],
   "source": [
    "director_votes.plot(kind=\"pie\",autopct='%1.1f%%',shadow=True);"
   ]
  },
  {
   "cell_type": "markdown",
   "metadata": {},
   "source": [
    "##### Christopher Nolan has the highest number of votes "
   ]
  },
  {
   "cell_type": "markdown",
   "metadata": {},
   "source": [
    "<a href=\"#conclusions\"></a>\n",
    "## **Conclusion**"
   ]
  },
  {
   "cell_type": "markdown",
   "metadata": {},
   "source": [
    " <ul>\n",
    "\n",
    "\n",
    "<li> At the end, I can say the director that direct the movies determine the views and ratings of that particular movies </li>\n",
    "<li> Genre also plays an important roles because people love to watch Drama more than other genres </li>\n",
    "<li> People tend to watch movies with more runtime more than short videos </li>\n",
    "<li> Revenue also play an important role, the higher the revenue the higher the expectation of people for that movie which make it associate with popularity and others </li>\n",
    "\n",
    " </ul>"
   ]
  },
  {
   "cell_type": "markdown",
   "metadata": {},
   "source": [
    "#### **Limitation**\n",
    "<ul> \n",
    "<li>Could not be able to use the correlation between budget and revenue to find the movies with highest profit </li>\n",
    "<li>Unable to use the cast to find the most popular actor  </li>\n",
    "</ul>"
   ]
  }
 ],
 "metadata": {
  "interpreter": {
   "hash": "be0aa004a6b02fa90b02fd0da268cab2e2dfd0b41aeea8887871c72bbde517ff"
  },
  "kernelspec": {
   "display_name": "Python 3.10.2 64-bit",
   "language": "python",
   "name": "python3"
  },
  "language_info": {
   "codemirror_mode": {
    "name": "ipython",
    "version": 3
   },
   "file_extension": ".py",
   "mimetype": "text/x-python",
   "name": "python",
   "nbconvert_exporter": "python",
   "pygments_lexer": "ipython3",
   "version": "3.10.2"
  },
  "orig_nbformat": 4
 },
 "nbformat": 4,
 "nbformat_minor": 2
}
